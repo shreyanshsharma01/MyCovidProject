{
 "cells": [
  {
   "cell_type": "raw",
   "metadata": {},
   "source": [
    "Pandemic Analyser Calculator\n"
   ]
  },
  {
   "cell_type": "code",
   "execution_count": null,
   "metadata": {},
   "outputs": [],
   "source": [
    "from tkinter import *\n",
    "from tkinter.ttk import Combobox\n",
    "from tkinter import messagebox as mbox\n",
    "from csv import reader"
   ]
  },
  {
   "cell_type": "code",
   "execution_count": null,
   "metadata": {},
   "outputs": [],
   "source": [
    "tkter =Tk()\n",
    "tkter.geometry('500x600')\n",
    "pic=PhotoImage(file='background img.png')\n",
    "Label(tkter,image=pic).pack()"
   ]
  },
  {
   "cell_type": "code",
   "execution_count": null,
   "metadata": {},
   "outputs": [],
   "source": [
    "# Defining Title to the application\n",
    "tkter.title('Pandemic Analyser Calculator')"
   ]
  },
  {
   "cell_type": "code",
   "execution_count": null,
   "metadata": {},
   "outputs": [],
   "source": [
    "with open('Latest State Covid 19 Report.csv', 'r') as read_obj:\n",
    "    # pass the file object to reader() to get the reader object\n",
    "    data =reader(read_obj)\n",
    "    # Pass reader object to list() to get a list of lists\n",
    "    list_of_rows = list(data)"
   ]
  },
  {
   "cell_type": "code",
   "execution_count": null,
   "metadata": {},
   "outputs": [],
   "source": [
    "#Creating Labels \n",
    "lbl=Label(tkter, text=\"Name of State/UT\", bg='#343a40',fg='snow', font=(\"arial\", 14)) #fg = font color\n",
    "lbl.place(x=160, y=80)\n",
    "\n",
    "Confirmed=Entry(bg=\"#2d3142\")\n",
    "Confirmed.place(x=50,y=270,width=100,height=30)\n",
    "lbl1=Label(tkter, text=\"Confirmed\", bg='#343a40',fg='#fee440', font=(\"arial\", 14)) \n",
    "lbl1.place(x=50, y=210)\n",
    "\n",
    "Active=Entry(bg=\"#2d3142\")\n",
    "Active.place(x=208,y=270,width=80,height=30)\n",
    "lbl2=Label(tkter, text=\"Active\", bg='#343a40',fg='#ff70a6', font=(\"arial\", 14)) \n",
    "lbl2.place(x=215, y=210)\n",
    "\n",
    "Recovered=Entry(bg=\"#2d3142\")\n",
    "Recovered.place(x=350,y=270,width=110,height=30)\n",
    "lbl3=Label(tkter, text=\"Recovered\", bg='#343a40',fg='#00f5d4', font=(\"arial\", 14)) \n",
    "lbl3.place(x=350, y=210)\n",
    "\n",
    "Total_Population=Entry(bg=\"#2d3142\")#e9ecef\")\n",
    "Total_Population.place(x=250, y=350,width=150,height=30)\n",
    "lbl4=Label(tkter, text=\"Total Population:\",bg='#343a40', fg='#ff9505', font=(\"arial\", 14))\n",
    "lbl4.place(x=50, y=350)"
   ]
  },
  {
   "cell_type": "code",
   "execution_count": null,
   "metadata": {},
   "outputs": [],
   "source": [
    "data1=[] #names of states\n",
    "data2=[] #info corressponding to name\n",
    "#Creating List using Loop\n",
    "for i in range(len(list_of_rows)):\n",
    "    data1.append(list_of_rows[i])\n",
    "    data2.append(data1[i][0])  \n"
   ]
  },
  {
   "cell_type": "code",
   "execution_count": null,
   "metadata": {},
   "outputs": [],
   "source": [
    "#Creating Function for clearing the text boxes\n",
    "def enable_items():\n",
    "    Confirmed.configure(state='normal')  #on state\n",
    "    Active.configure(state='normal')\n",
    "    Recovered.configure(state='normal')\n",
    "    Total_Population.configure(state='normal')  \n",
    " \n",
    "    Confirmed.delete(0, 'end')\n",
    "    Active.delete(0, 'end')\n",
    "    Recovered.delete(0, 'end')\n",
    "    Total_Population.delete(0,'end')\n",
    "    \n",
    "    IFR.configure(state='normal')\n",
    "    IFR.delete(0, 'end')\n",
    "    \n",
    "    CMR.configure(state='normal')\n",
    "    CMR.delete(0, 'end')\n",
    "    \n",
    "    deaths.configure(state='normal')\n",
    "    deaths.delete(0, 'end')"
   ]
  },
  {
   "cell_type": "code",
   "execution_count": null,
   "metadata": {},
   "outputs": [],
   "source": [
    "#creating Function for State/UT data into text boxes and disabling it\n",
    "def on_Data_changed():\n",
    "    enable_items()\n",
    "    for i in range(len(data1)):\n",
    "        \n",
    "        dat=data1[i][0]\n",
    "        if cb.get()==dat:\n",
    "            \n",
    "                Confirmed.insert(END, data1[i][1])\n",
    "                Active.insert(END, data1[i][2])\n",
    "                Recovered.insert(END, data1[i][3])\n",
    "                Total_Population.insert(END, data1[i][5])\n",
    "                \n",
    "                Confirmed.configure(state='disabled')\n",
    "                Active.configure(state='disabled')\n",
    "                Recovered.configure(state='disabled')\n",
    "                Total_Population.configure(state='disabled')"
   ]
  },
  {
   "cell_type": "code",
   "execution_count": null,
   "metadata": {},
   "outputs": [],
   "source": [
    "#Settingup Data for Combobox\n",
    "cb=Combobox(tkter,values=data2)    #CREATE DROP DOWN LIST\n",
    "cb.place(x=165, y=130,width=150,height=30)\n",
    "\n",
    "clk = Button(tkter, text='OK',bg=\"tomato\",fg=\"snow\",font=('arial',14),command=on_Data_changed) #CREATE BUTTON APON CLICKING\n",
    "clk.place(x=320, y=130, height=30)"
   ]
  },
  {
   "cell_type": "code",
   "execution_count": null,
   "metadata": {},
   "outputs": [],
   "source": [
    "#Creating function for deceased persons\n",
    "def deceased_persons():\n",
    "    num1=int(Confirmed.get())\n",
    "    num2=int(Active.get())\n",
    "    num3=int(Recovered.get())\n",
    "    \n",
    "    sol1=num1-(num2+num3) #sol1=solution of 1st function\n",
    "    deaths.insert(END, str(sol1))\n",
    "    deaths.configure(state='disabled')\n",
    "    \n",
    "#Creating function for CMR\n",
    "def CMR():\n",
    "    num1=int(deaths.get())\n",
    "    num2=int(Total_Population.get())\n",
    "    \n",
    "    sol2=round((num1/num2)*100000,4)\n",
    "    CMR.insert(END, str(sol2))\n",
    "    CMR.configure(state='disabled')\n",
    "    \n",
    "#Creating function for IFR\n",
    "def IFR():\n",
    "    num1=int(deaths.get())\n",
    "    num2=int(Confirmed.get())\n",
    "    \n",
    "    sol3=round((num1/num2)*100,2) #sol3 =solution of 3rd function\n",
    "    IFR.insert(END, str(sol3)+'%')\n",
    "    IFR.configure(state='disabled')\n"
   ]
  },
  {
   "cell_type": "code",
   "execution_count": null,
   "metadata": {},
   "outputs": [],
   "source": [
    "#creating Buttons             \n",
    "deaths=Button(tkter, text='Deseased', bg=\"#e63946\",font=('arial',16), fg='snow', command=deceased_persons)\n",
    "deaths.place(x=50, y=430)\n",
    "CMR=Button(tkter, text='CMR', bg=\"#008dd5\",font=('arial',16), fg='snow', command=CMR)\n",
    "CMR.place(x=240, y=430)\n",
    "IFR=Button(tkter, text='IFR', bg=\"#ff6d00\",font=('arial',16), fg='snow', command=IFR)\n",
    "IFR.place(x=370, y=430)\n",
    "\n",
    "deaths=Entry(bg='#2d3142')\n",
    "deaths.place(x=50,y=490,width=110,height=30)\n",
    "CMR=Entry(bg='#2d3142')\n",
    "CMR.place(x=240,y=490,width=66,height=30)\n",
    "IFR=Entry(bg='#2d3142')\n",
    "IFR.place(x=370,y=490,width=55,height=30)\n",
    "\n",
    "tkter.mainloop()"
   ]
  },
  {
   "cell_type": "code",
   "execution_count": null,
   "metadata": {},
   "outputs": [],
   "source": []
  },
  {
   "cell_type": "code",
   "execution_count": null,
   "metadata": {},
   "outputs": [],
   "source": []
  },
  {
   "cell_type": "code",
   "execution_count": null,
   "metadata": {},
   "outputs": [],
   "source": []
  },
  {
   "cell_type": "code",
   "execution_count": null,
   "metadata": {},
   "outputs": [],
   "source": []
  },
  {
   "cell_type": "code",
   "execution_count": null,
   "metadata": {},
   "outputs": [],
   "source": []
  },
  {
   "cell_type": "code",
   "execution_count": null,
   "metadata": {},
   "outputs": [],
   "source": []
  }
 ],
 "metadata": {
  "kernelspec": {
   "display_name": "Python 3",
   "language": "python",
   "name": "python3"
  },
  "language_info": {
   "codemirror_mode": {
    "name": "ipython",
    "version": 3
   },
   "file_extension": ".py",
   "mimetype": "text/x-python",
   "name": "python",
   "nbconvert_exporter": "python",
   "pygments_lexer": "ipython3",
   "version": "3.7.6"
  }
 },
 "nbformat": 4,
 "nbformat_minor": 4
}
