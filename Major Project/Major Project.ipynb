{
 "cells": [
  {
   "cell_type": "markdown",
   "metadata": {},
   "source": [
    "### Present State/UT Analytics-Delhi"
   ]
  },
  {
   "cell_type": "code",
   "execution_count": 1,
   "metadata": {},
   "outputs": [],
   "source": [
    "# importing the libraries\n",
    "import numpy as np\n",
    "import pandas as pd\n",
    "import matplotlib.pyplot as plt\n",
    "import seaborn as sns\n",
    "import matplotlib\n",
    "%matplotlib inline\n",
    "from sklearn import preprocessing\n",
    "import matplotlib.cm as cm"
   ]
  },
  {
   "cell_type": "code",
   "execution_count": 2,
   "metadata": {},
   "outputs": [
    {
     "data": {
      "text/html": [
       "<div>\n",
       "<style scoped>\n",
       "    .dataframe tbody tr th:only-of-type {\n",
       "        vertical-align: middle;\n",
       "    }\n",
       "\n",
       "    .dataframe tbody tr th {\n",
       "        vertical-align: top;\n",
       "    }\n",
       "\n",
       "    .dataframe thead th {\n",
       "        text-align: right;\n",
       "    }\n",
       "</style>\n",
       "<table border=\"1\" class=\"dataframe\">\n",
       "  <thead>\n",
       "    <tr style=\"text-align: right;\">\n",
       "      <th></th>\n",
       "      <th>Date</th>\n",
       "      <th>State/UT</th>\n",
       "      <th>Total_confirmed</th>\n",
       "      <th>Total_deaths</th>\n",
       "      <th>Total_cured</th>\n",
       "      <th>New_cases</th>\n",
       "      <th>New_deaths</th>\n",
       "      <th>New_cured</th>\n",
       "    </tr>\n",
       "  </thead>\n",
       "  <tbody>\n",
       "    <tr>\n",
       "      <th>0</th>\n",
       "      <td>02-03-2020</td>\n",
       "      <td>Delhi</td>\n",
       "      <td>1</td>\n",
       "      <td>0</td>\n",
       "      <td>0</td>\n",
       "      <td>0</td>\n",
       "      <td>0</td>\n",
       "      <td>0</td>\n",
       "    </tr>\n",
       "    <tr>\n",
       "      <th>1</th>\n",
       "      <td>03-03-2020</td>\n",
       "      <td>Delhi</td>\n",
       "      <td>1</td>\n",
       "      <td>0</td>\n",
       "      <td>0</td>\n",
       "      <td>0</td>\n",
       "      <td>0</td>\n",
       "      <td>0</td>\n",
       "    </tr>\n",
       "    <tr>\n",
       "      <th>2</th>\n",
       "      <td>04-03-2020</td>\n",
       "      <td>Delhi</td>\n",
       "      <td>1</td>\n",
       "      <td>0</td>\n",
       "      <td>0</td>\n",
       "      <td>0</td>\n",
       "      <td>0</td>\n",
       "      <td>0</td>\n",
       "    </tr>\n",
       "    <tr>\n",
       "      <th>3</th>\n",
       "      <td>05-03-2020</td>\n",
       "      <td>Delhi</td>\n",
       "      <td>2</td>\n",
       "      <td>0</td>\n",
       "      <td>0</td>\n",
       "      <td>1</td>\n",
       "      <td>0</td>\n",
       "      <td>0</td>\n",
       "    </tr>\n",
       "    <tr>\n",
       "      <th>4</th>\n",
       "      <td>06-03-2020</td>\n",
       "      <td>Delhi</td>\n",
       "      <td>3</td>\n",
       "      <td>0</td>\n",
       "      <td>0</td>\n",
       "      <td>1</td>\n",
       "      <td>0</td>\n",
       "      <td>0</td>\n",
       "    </tr>\n",
       "    <tr>\n",
       "      <th>...</th>\n",
       "      <td>...</td>\n",
       "      <td>...</td>\n",
       "      <td>...</td>\n",
       "      <td>...</td>\n",
       "      <td>...</td>\n",
       "      <td>...</td>\n",
       "      <td>...</td>\n",
       "      <td>...</td>\n",
       "    </tr>\n",
       "    <tr>\n",
       "      <th>138</th>\n",
       "      <td>23-07-2020</td>\n",
       "      <td>Delhi</td>\n",
       "      <td>126323</td>\n",
       "      <td>3719</td>\n",
       "      <td>107650</td>\n",
       "      <td>1227</td>\n",
       "      <td>29</td>\n",
       "      <td>1532</td>\n",
       "    </tr>\n",
       "    <tr>\n",
       "      <th>139</th>\n",
       "      <td>24-07-2020</td>\n",
       "      <td>Delhi</td>\n",
       "      <td>127364</td>\n",
       "      <td>3745</td>\n",
       "      <td>109065</td>\n",
       "      <td>1041</td>\n",
       "      <td>26</td>\n",
       "      <td>1415</td>\n",
       "    </tr>\n",
       "    <tr>\n",
       "      <th>140</th>\n",
       "      <td>25-07-2020</td>\n",
       "      <td>Delhi</td>\n",
       "      <td>128389</td>\n",
       "      <td>3777</td>\n",
       "      <td>110931</td>\n",
       "      <td>1025</td>\n",
       "      <td>32</td>\n",
       "      <td>1866</td>\n",
       "    </tr>\n",
       "    <tr>\n",
       "      <th>141</th>\n",
       "      <td>26-07-2020</td>\n",
       "      <td>Delhi</td>\n",
       "      <td>129531</td>\n",
       "      <td>3806</td>\n",
       "      <td>113068</td>\n",
       "      <td>1142</td>\n",
       "      <td>29</td>\n",
       "      <td>2137</td>\n",
       "    </tr>\n",
       "    <tr>\n",
       "      <th>142</th>\n",
       "      <td>27-07-2020</td>\n",
       "      <td>Delhi</td>\n",
       "      <td>130606</td>\n",
       "      <td>3827</td>\n",
       "      <td>114875</td>\n",
       "      <td>1075</td>\n",
       "      <td>21</td>\n",
       "      <td>1807</td>\n",
       "    </tr>\n",
       "  </tbody>\n",
       "</table>\n",
       "<p>143 rows × 8 columns</p>\n",
       "</div>"
      ],
      "text/plain": [
       "           Date State/UT  Total_confirmed  Total_deaths  Total_cured  \\\n",
       "0    02-03-2020    Delhi                1             0            0   \n",
       "1    03-03-2020    Delhi                1             0            0   \n",
       "2    04-03-2020    Delhi                1             0            0   \n",
       "3    05-03-2020    Delhi                2             0            0   \n",
       "4    06-03-2020    Delhi                3             0            0   \n",
       "..          ...      ...              ...           ...          ...   \n",
       "138  23-07-2020    Delhi           126323          3719       107650   \n",
       "139  24-07-2020    Delhi           127364          3745       109065   \n",
       "140  25-07-2020    Delhi           128389          3777       110931   \n",
       "141  26-07-2020    Delhi           129531          3806       113068   \n",
       "142  27-07-2020    Delhi           130606          3827       114875   \n",
       "\n",
       "     New_cases  New_deaths  New_cured  \n",
       "0            0           0          0  \n",
       "1            0           0          0  \n",
       "2            0           0          0  \n",
       "3            1           0          0  \n",
       "4            1           0          0  \n",
       "..         ...         ...        ...  \n",
       "138       1227          29       1532  \n",
       "139       1041          26       1415  \n",
       "140       1025          32       1866  \n",
       "141       1142          29       2137  \n",
       "142       1075          21       1807  \n",
       "\n",
       "[143 rows x 8 columns]"
      ]
     },
     "execution_count": 2,
     "metadata": {},
     "output_type": "execute_result"
    }
   ],
   "source": [
    "#importing the data\n",
    "data1=pd.read_csv('Delhi data daily.csv')\n",
    "data1"
   ]
  },
  {
   "cell_type": "code",
   "execution_count": 3,
   "metadata": {},
   "outputs": [
    {
     "name": "stdout",
     "output_type": "stream",
     "text": [
      "<class 'pandas.core.frame.DataFrame'>\n",
      "RangeIndex: 143 entries, 0 to 142\n",
      "Data columns (total 8 columns):\n",
      " #   Column           Non-Null Count  Dtype \n",
      "---  ------           --------------  ----- \n",
      " 0   Date             143 non-null    object\n",
      " 1   State/UT         143 non-null    object\n",
      " 2   Total_confirmed  143 non-null    int64 \n",
      " 3   Total_deaths     143 non-null    int64 \n",
      " 4   Total_cured      143 non-null    int64 \n",
      " 5   New_cases        143 non-null    int64 \n",
      " 6   New_deaths       143 non-null    int64 \n",
      " 7   New_cured        143 non-null    int64 \n",
      "dtypes: int64(6), object(2)\n",
      "memory usage: 9.1+ KB\n"
     ]
    }
   ],
   "source": [
    "data1.info()"
   ]
  },
  {
   "cell_type": "code",
   "execution_count": 4,
   "metadata": {},
   "outputs": [
    {
     "data": {
      "image/png": "[encoded data removed]",
      "text/plain": [
       "<Figure size 720x576 with 1 Axes>"
      ]
     },
     "metadata": {
      "needs_background": "light"
     },
     "output_type": "display_data"
    }
   ],
   "source": [
    "from matplotlib import pyplot as plt\n",
    "#Plot of Daywise Analysis\n",
    "plt.figure(figsize=(10, 8))\n",
    "plt.title('Datewise Analysis of Delhi : ',fontweight='bold')\n",
    "#set_position([.4, 1.04])\n",
    "plt.plot(data1.Date,data1.Total_confirmed, color='red', label='Confirmed Cases')\n",
    "plt.plot(data1.Date,data1.Total_cured, color='orange', label='Cured Cases', marker='o')\n",
    "plt.plot(data1.Date,data1.Total_deaths, color='darkslategrey', label='Death Cases', marker='o')\n",
    "\n",
    "plt.bar(data1.Date,data1.Total_confirmed, color='tomato', label='Confirmed Cases')\n",
    "plt.bar(data1.Date,data1.Total_cured, color='gold', label='Cured Cases')\n",
    "plt.bar(data1.Date,data1.Total_deaths, color='lightslategrey', label='Death Cases')\n",
    " \n",
    "plt.xlabel('Date',fontweight='bold',labelpad=10)\n",
    "plt.ylabel('Cases',fontweight='bold',labelpad=30,rotation=0)\n",
    "plt.xticks(rotation=90 )\n",
    "plt.xlim([0,143])\n",
    "plt.subplots_adjust(-1)\n",
    "plt.legend()\n",
    "plt.show()\n"
   ]
  },
  {
   "cell_type": "code",
   "execution_count": 5,
   "metadata": {
    "scrolled": true
   },
   "outputs": [
    {
     "data": {
      "image/png": "[encoded data removed]",
      "text/plain": [
       "<Figure size 432x288 with 1 Axes>"
      ]
     },
     "metadata": {},
     "output_type": "display_data"
    }
   ],
   "source": [
    "#piechart representation of cases\n",
    "labels=['Confirmed','Deceased','Cured']\n",
    "sizes=[130606,3827,114875]\n",
    "colors = ['tomato', 'slategray', 'gold']\n",
    "explode = (0, 0, 0.1) \n",
    "plt.pie(sizes, explode=explode, labels=labels, colors=colors, autopct='%1.1f%%',textprops={'color':\"black\",'fontsize':13},shadow=True, center=(0.5,0.5), startangle=0)\n",
    "plt.axis('equal')\n",
    "plt.show()"
   ]
  },
  {
   "cell_type": "markdown",
   "metadata": {},
   "source": [
    "### Correlation Heatmap for various parameters"
   ]
  },
  {
   "cell_type": "code",
   "execution_count": 6,
   "metadata": {},
   "outputs": [
    {
     "data": {
      "text/html": [
       "<div>\n",
       "<style scoped>\n",
       "    .dataframe tbody tr th:only-of-type {\n",
       "        vertical-align: middle;\n",
       "    }\n",
       "\n",
       "    .dataframe tbody tr th {\n",
       "        vertical-align: top;\n",
       "    }\n",
       "\n",
       "    .dataframe thead th {\n",
       "        text-align: right;\n",
       "    }\n",
       "</style>\n",
       "<table border=\"1\" class=\"dataframe\">\n",
       "  <thead>\n",
       "    <tr style=\"text-align: right;\">\n",
       "      <th></th>\n",
       "      <th>Total_confirmed</th>\n",
       "      <th>Total_deaths</th>\n",
       "      <th>Total_cured</th>\n",
       "      <th>New_cases</th>\n",
       "      <th>New_deaths</th>\n",
       "      <th>New_cured</th>\n",
       "    </tr>\n",
       "  </thead>\n",
       "  <tbody>\n",
       "    <tr>\n",
       "      <th>Total_confirmed</th>\n",
       "      <td>1.000000</td>\n",
       "      <td>0.995413</td>\n",
       "      <td>0.983237</td>\n",
       "      <td>0.655979</td>\n",
       "      <td>0.431014</td>\n",
       "      <td>0.733410</td>\n",
       "    </tr>\n",
       "    <tr>\n",
       "      <th>Total_deaths</th>\n",
       "      <td>0.995413</td>\n",
       "      <td>1.000000</td>\n",
       "      <td>0.968435</td>\n",
       "      <td>0.690976</td>\n",
       "      <td>0.471318</td>\n",
       "      <td>0.760040</td>\n",
       "    </tr>\n",
       "    <tr>\n",
       "      <th>Total_cured</th>\n",
       "      <td>0.983237</td>\n",
       "      <td>0.968435</td>\n",
       "      <td>1.000000</td>\n",
       "      <td>0.538587</td>\n",
       "      <td>0.318661</td>\n",
       "      <td>0.668234</td>\n",
       "    </tr>\n",
       "    <tr>\n",
       "      <th>New_cases</th>\n",
       "      <td>0.655979</td>\n",
       "      <td>0.690976</td>\n",
       "      <td>0.538587</td>\n",
       "      <td>1.000000</td>\n",
       "      <td>0.666081</td>\n",
       "      <td>0.862226</td>\n",
       "    </tr>\n",
       "    <tr>\n",
       "      <th>New_deaths</th>\n",
       "      <td>0.431014</td>\n",
       "      <td>0.471318</td>\n",
       "      <td>0.318661</td>\n",
       "      <td>0.666081</td>\n",
       "      <td>1.000000</td>\n",
       "      <td>0.469527</td>\n",
       "    </tr>\n",
       "    <tr>\n",
       "      <th>New_cured</th>\n",
       "      <td>0.733410</td>\n",
       "      <td>0.760040</td>\n",
       "      <td>0.668234</td>\n",
       "      <td>0.862226</td>\n",
       "      <td>0.469527</td>\n",
       "      <td>1.000000</td>\n",
       "    </tr>\n",
       "  </tbody>\n",
       "</table>\n",
       "</div>"
      ],
      "text/plain": [
       "                 Total_confirmed  Total_deaths  Total_cured  New_cases  \\\n",
       "Total_confirmed         1.000000      0.995413     0.983237   0.655979   \n",
       "Total_deaths            0.995413      1.000000     0.968435   0.690976   \n",
       "Total_cured             0.983237      0.968435     1.000000   0.538587   \n",
       "New_cases               0.655979      0.690976     0.538587   1.000000   \n",
       "New_deaths              0.431014      0.471318     0.318661   0.666081   \n",
       "New_cured               0.733410      0.760040     0.668234   0.862226   \n",
       "\n",
       "                 New_deaths  New_cured  \n",
       "Total_confirmed    0.431014   0.733410  \n",
       "Total_deaths       0.471318   0.760040  \n",
       "Total_cured        0.318661   0.668234  \n",
       "New_cases          0.666081   0.862226  \n",
       "New_deaths         1.000000   0.469527  \n",
       "New_cured          0.469527   1.000000  "
      ]
     },
     "execution_count": 6,
     "metadata": {},
     "output_type": "execute_result"
    }
   ],
   "source": [
    "#Correlation between data column names\n",
    "data1.corr()"
   ]
  },
  {
   "cell_type": "code",
   "execution_count": 7,
   "metadata": {},
   "outputs": [
    {
     "data": {
      "text/plain": [
       "<matplotlib.axes._subplots.AxesSubplot at 0x1c7b619d988>"
      ]
     },
     "execution_count": 7,
     "metadata": {},
     "output_type": "execute_result"
    },
    {
     "data": {
      "image/png": "[encoded data removed]",
      "text/plain": [
       "<Figure size 432x288 with 2 Axes>"
      ]
     },
     "metadata": {
      "needs_background": "light"
     },
     "output_type": "display_data"
    }
   ],
   "source": [
    "# heatmap of correlation\n",
    "sns.heatmap(data1.corr(),annot=True,linewidths=2, annot_kws={\"size\": 12},cmap=\"YlOrRd\")"
   ]
  },
  {
   "cell_type": "markdown",
   "metadata": {},
   "source": [
    "### Model for predicting the confirmed Cases"
   ]
  },
  {
   "cell_type": "code",
   "execution_count": 9,
   "metadata": {},
   "outputs": [
    {
     "data": {
      "text/plain": [
       "Index(['Date', 'State/UT', 'Total_confirmed', 'Total_deaths', 'Total_cured',\n",
       "       'New_cases', 'New_deaths', 'New_cured'],\n",
       "      dtype='object')"
      ]
     },
     "execution_count": 9,
     "metadata": {},
     "output_type": "execute_result"
    }
   ],
   "source": [
    "data1.columns"
   ]
  },
  {
   "cell_type": "code",
   "execution_count": 10,
   "metadata": {},
   "outputs": [],
   "source": [
    "x=data1[['Date','Total_deaths', 'Total_cured','New_cases', 'New_deaths', 'New_cured']].values\n",
    "y=data1['Total_confirmed'].values"
   ]
  },
  {
   "cell_type": "code",
   "execution_count": 11,
   "metadata": {},
   "outputs": [],
   "source": [
    "#Encoding the Date column into code format\n",
    "from sklearn.preprocessing import LabelEncoder, OneHotEncoder\n",
    "x[:,0]=LabelEncoder().fit_transform(x[:,0])\n"
   ]
  },
  {
   "cell_type": "code",
   "execution_count": 12,
   "metadata": {},
   "outputs": [
    {
     "data": {
      "text/plain": [
       "array([[3, 0, 0, 0, 0, 0],\n",
       "       [8, 0, 0, 0, 0, 0],\n",
       "       [13, 0, 0, 0, 0, 0],\n",
       "       [17, 0, 0, 1, 0, 0],\n",
       "       [22, 0, 0, 1, 0, 0],\n",
       "       [26, 0, 0, 0, 0, 0],\n",
       "       [31, 0, 0, 0, 0, 0],\n",
       "       [36, 0, 0, 1, 0, 0],\n",
       "       [41, 0, 0, 0, 0, 0],\n",
       "       [46, 0, 0, 1, 0, 0],\n",
       "       [51, 0, 0, 1, 0, 0],\n",
       "       [56, 0, 0, 0, 0, 0],\n",
       "       [61, 1, 1, 1, 1, 1],\n",
       "       [66, 1, 2, 0, 0, 1],\n",
       "       [71, 1, 2, 0, 0, 0],\n",
       "       [76, 1, 2, 1, 0, 0],\n",
       "       [81, 1, 2, 2, 0, 0],\n",
       "       [85, 1, 3, 2, 0, 1],\n",
       "       [90, 1, 3, 5, 0, 0],\n",
       "       [95, 1, 5, 9, 0, 2],\n",
       "       [100, 1, 5, 3, 0, 0],\n",
       "       [105, 1, 5, 0, 0, 0],\n",
       "       [110, 2, 6, 1, 1, 1],\n",
       "       [115, 1, 6, 1, -1, 0],\n",
       "       [120, 1, 6, 5, 0, 0],\n",
       "       [124, 1, 6, 0, 0, 0],\n",
       "       [129, 1, 6, 3, 0, 0],\n",
       "       [133, 2, 6, 0, 1, 0],\n",
       "       [137, 2, 6, 14, 0, 0],\n",
       "       [141, 2, 6, 44, 0, 0],\n",
       "       [0, 2, 6, 55, 0, 0],\n",
       "       [4, 2, 6, 0, 0, 0],\n",
       "       [9, 4, 8, 67, 2, 2],\n",
       "       [14, 6, 8, 167, 2, 0],\n",
       "       [18, 6, 15, 59, 0, 7],\n",
       "       [23, 7, 18, 58, 1, 3],\n",
       "       [27, 7, 19, 20, 0, 1],\n",
       "       [32, 9, 21, 53, 2, 2],\n",
       "       [37, 9, 21, 93, 0, 0],\n",
       "       [42, 12, 25, 51, 3, 4],\n",
       "       [47, 13, 25, 183, 1, 0],\n",
       "       [52, 19, 25, 166, 6, 0],\n",
       "       [57, 24, 27, 85, 5, 2],\n",
       "       [62, 28, 30, 356, 4, 3],\n",
       "       [67, 30, 30, 51, 2, 0],\n",
       "       [72, 32, 40, 17, 2, 10],\n",
       "       [77, 38, 51, 62, 6, 11],\n",
       "       [82, 42, 72, 67, 4, 21],\n",
       "       [86, 42, 72, 186, 0, 0],\n",
       "       [91, 45, 72, 110, 3, 0],\n",
       "       [96, 47, 431, 78, 2, 359],\n",
       "       [101, 47, 611, 75, 0, 180],\n",
       "       [106, 48, 724, 92, 1, 113],\n",
       "       [111, 50, 808, 128, 2, 84],\n",
       "       [116, 53, 857, 138, 3, 49],\n",
       "       [121, 54, 869, 111, 1, 12],\n",
       "       [125, 54, 877, 293, 0, 8],\n",
       "       [130, 54, 877, 190, 0, 0],\n",
       "       [134, 54, 1078, 206, 0, 201],\n",
       "       [138, 56, 1092, 125, 2, 14],\n",
       "       [1, 59, 1094, 76, 3, 2],\n",
       "       [5, 61, 1167, 223, 2, 73],\n",
       "       [10, 64, 1256, 384, 3, 89],\n",
       "       [15, 64, 1362, 427, 0, 106],\n",
       "       [19, 64, 1431, 349, 0, 69],\n",
       "       [24, 64, 1468, 206, 0, 37],\n",
       "       [28, 65, 1542, 428, 1, 74],\n",
       "       [33, 66, 1931, 448, 1, 389],\n",
       "       [38, 68, 2020, 338, 2, 89],\n",
       "       [43, 73, 2020, 224, 5, 0],\n",
       "       [48, 73, 2069, 381, 0, 49],\n",
       "       [53, 73, 2129, 310, 0, 60],\n",
       "       [58, 86, 2512, 406, 13, 383],\n",
       "       [63, 106, 2858, 359, 20, 346],\n",
       "       [68, 115, 3045, 472, 9, 187],\n",
       "       [73, 123, 3518, 425, 8, 473],\n",
       "       [78, 129, 3926, 438, 6, 408],\n",
       "       [83, 160, 4485, 721, 31, 559],\n",
       "       [87, 168, 4485, 0, 8, 0],\n",
       "       [92, 168, 4750, 500, 0, 265],\n",
       "       [97, 176, 5192, 534, 8, 442],\n",
       "       [102, 194, 5567, 571, 18, 375],\n",
       "       [107, 208, 5897, 660, 14, 330],\n",
       "       [112, 231, 6267, 591, 23, 370],\n",
       "       [117, 261, 6540, 508, 30, 273],\n",
       "       [122, 276, 6771, 635, 15, 231],\n",
       "       [126, 288, 7223, 412, 12, 452],\n",
       "       [131, 303, 7264, 792, 15, 41],\n",
       "       [135, 316, 7495, 1024, 13, 231],\n",
       "       [139, 398, 7846, 1105, 82, 351],\n",
       "       [142, 416, 8075, 1163, 18, 229],\n",
       "       [2, 473, 8478, 1295, 57, 403],\n",
       "       [6, 523, 8746, 990, 50, 268],\n",
       "       [11, 556, 9243, 1298, 33, 497],\n",
       "       [16, 606, 9542, 1513, 50, 299],\n",
       "       [20, 650, 9898, 1359, 44, 356],\n",
       "       [25, 708, 10315, 1330, 58, 417],\n",
       "       [29, 761, 10664, 1320, 53, 349],\n",
       "       [34, 812, 10999, 1282, 51, 335],\n",
       "       [39, 874, 11357, 1007, 62, 358],\n",
       "       [44, 905, 11861, 1366, 31, 504],\n",
       "       [49, 984, 12245, 1501, 79, 384],\n",
       "       [54, 1085, 12731, 1877, 101, 486],\n",
       "       [59, 1214, 13398, 2137, 129, 667],\n",
       "       [64, 1271, 14945, 2134, 57, 1547],\n",
       "       [69, 1327, 15823, 2224, 56, 878],\n",
       "       [74, 1400, 16427, 1647, 73, 604],\n",
       "       [79, 1837, 16500, 1859, 437, 73],\n",
       "       [84, 1904, 17457, 2414, 67, 957],\n",
       "       [88, 1969, 21341, 2877, 65, 3884],\n",
       "       [93, 2035, 23569, 3137, 66, 2228],\n",
       "       [98, 2112, 31294, 3630, 77, 7725],\n",
       "       [103, 2175, 33013, 3000, 63, 1719],\n",
       "       [108, 2233, 36602, 2909, 58, 3589],\n",
       "       [113, 2301, 39313, 3947, 68, 2711],\n",
       "       [118, 2365, 41437, 3788, 64, 2124],\n",
       "       [127, 2492, 47091, 6850, 127, 5654],\n",
       "       [132, 2558, 49301, 2948, 66, 2210],\n",
       "       [136, 2623, 52607, 2889, 65, 3306],\n",
       "       [140, 2680, 56235, 2084, 57, 3628],\n",
       "       [7, 2803, 59992, 4641, 123, 3757],\n",
       "       [12, 2864, 63007, 2373, 61, 3015],\n",
       "       [21, 3004, 68256, 5025, 140, 5249],\n",
       "       [30, 3115, 72088, 3623, 111, 3832],\n",
       "       [35, 3165, 74217, 2008, 50, 2129],\n",
       "       [40, 3213, 78199, 2033, 48, 3982],\n",
       "       [45, 3258, 82226, 2187, 45, 4027],\n",
       "       [50, 3300, 84694, 2089, 42, 2468],\n",
       "       [55, 3334, 87692, 1781, 34, 2998],\n",
       "       [60, 3371, 89968, 1573, 37, 2276],\n",
       "       [65, 3411, 91312, 1246, 40, 1344],\n",
       "       [70, 3446, 93236, 1606, 35, 1924],\n",
       "       [75, 3487, 95699, 1647, 41, 2463],\n",
       "       [80, 3487, 95699, 0, 0, 0],\n",
       "       [89, 3597, 101274, 4589, 110, 5575],\n",
       "       [94, 3628, 103134, 1211, 31, 1860],\n",
       "       [99, 3663, 104918, 954, 35, 1784],\n",
       "       [104, 3690, 106118, 1349, 27, 1200],\n",
       "       [109, 3719, 107650, 1227, 29, 1532],\n",
       "       [114, 3745, 109065, 1041, 26, 1415],\n",
       "       [119, 3777, 110931, 1025, 32, 1866],\n",
       "       [123, 3806, 113068, 1142, 29, 2137],\n",
       "       [128, 3827, 114875, 1075, 21, 1807]], dtype=object)"
      ]
     },
     "execution_count": 12,
     "metadata": {},
     "output_type": "execute_result"
    }
   ],
   "source": [
    "x"
   ]
  },
  {
   "cell_type": "code",
   "execution_count": 13,
   "metadata": {},
   "outputs": [
    {
     "data": {
      "text/plain": [
       "array([     1,      1,      1,      2,      3,      3,      3,      4,\n",
       "            4,      5,      6,      6,      7,      7,      7,      8,\n",
       "           10,     12,     17,     26,     29,     29,     30,     31,\n",
       "           36,     36,     39,     39,     53,     97,    152,    152,\n",
       "          219,    386,    445,    503,    523,    576,    669,    720,\n",
       "          903,   1069,   1154,   1510,   1561,   1578,   1640,   1707,\n",
       "         1893,   2003,   2081,   2156,   2248,   2376,   2514,   2625,\n",
       "         2918,   3108,   3314,   3439,   3515,   3738,   4122,   4549,\n",
       "         4898,   5104,   5532,   5980,   6318,   6542,   6923,   7233,\n",
       "         7639,   7998,   8470,   8895,   9333,  10054,  10054,  10554,\n",
       "        11088,  11659,  12319,  12910,  13418,  14053,  14465,  15257,\n",
       "        16281,  17386,  18549,  19844,  20834,  22132,  23645,  25004,\n",
       "        26334,  27654,  28936,  29943,  31309,  32810,  34687,  36824,\n",
       "        38958,  41182,  42829,  44688,  47102,  49979,  53116,  56746,\n",
       "        59746,  62655,  66602,  70390,  77240,  80188,  83077,  85161,\n",
       "        89802,  92175,  97200, 100823, 102831, 104864, 107051, 109140,\n",
       "       110921, 112494, 113740, 115346, 116993, 116993, 121582, 122793,\n",
       "       123747, 125096, 126323, 127364, 128389, 129531, 130606],\n",
       "      dtype=int64)"
      ]
     },
     "execution_count": 13,
     "metadata": {},
     "output_type": "execute_result"
    }
   ],
   "source": [
    "y"
   ]
  },
  {
   "cell_type": "code",
   "execution_count": 14,
   "metadata": {},
   "outputs": [
    {
     "name": "stdout",
     "output_type": "stream",
     "text": [
      "train set: (114, 6) (114,)\n",
      "test set: (29, 6) (29,)\n"
     ]
    }
   ],
   "source": [
    "from sklearn.model_selection import train_test_split\n",
    "x_train, x_test, y_train, y_test = train_test_split( x, y, test_size=0.2, random_state=4)\n",
    "print('train set:',x_train.shape, y_train.shape)\n",
    "print('test set:',x_test.shape, y_test.shape)"
   ]
  },
  {
   "cell_type": "code",
   "execution_count": 15,
   "metadata": {},
   "outputs": [
    {
     "name": "stdout",
     "output_type": "stream",
     "text": [
      "LinearRegression(copy_X=True, fit_intercept=True, n_jobs=None, normalize=False)\n"
     ]
    }
   ],
   "source": [
    "from sklearn.linear_model import LinearRegression\n",
    "model=LinearRegression().fit(x_train, y_train)\n",
    "print(model)"
   ]
  },
  {
   "cell_type": "code",
   "execution_count": 16,
   "metadata": {},
   "outputs": [
    {
     "name": "stdout",
     "output_type": "stream",
     "text": [
      "Coefficients: [-6.67441214 18.38861749  0.5253607   2.42768193 -1.34057413 -1.27452862]\n"
     ]
    }
   ],
   "source": [
    "#Getting the coefficients\n",
    "print('Coefficients:', model.coef_)"
   ]
  },
  {
   "cell_type": "code",
   "execution_count": 17,
   "metadata": {},
   "outputs": [
    {
     "name": "stdout",
     "output_type": "stream",
     "text": [
      "[  1869.99814311   4819.57809008   2668.81080001   1884.64364644\n",
      "   2084.87601058  23149.37242086  55745.24372844  79934.52867401\n",
      "   1664.65707415   2171.64336837   1452.32440273  13279.84935527\n",
      "   2390.79495652   1464.06601873   5252.48893468 124901.29650996\n",
      "   9983.43391825  91586.00076495   2378.71745381   1742.07804573\n",
      "   1619.26797913  29507.43209769   1426.23538783  11303.66145069\n",
      "  18425.21858485   2651.78412714 113778.18637269   1491.16046092\n",
      "   4952.22748214]\n"
     ]
    }
   ],
   "source": [
    "y_predict=model.predict(x_test)\n",
    "print(y_predict)"
   ]
  },
  {
   "cell_type": "code",
   "execution_count": 18,
   "metadata": {},
   "outputs": [
    {
     "data": {
      "text/plain": [
       "<matplotlib.collections.PathCollection at 0x1c7b6608dc8>"
      ]
     },
     "execution_count": 18,
     "metadata": {},
     "output_type": "execute_result"
    },
    {
     "data": {
      "image/png": "[encoded data removed]",
      "text/plain": [
       "<Figure size 432x288 with 1 Axes>"
      ]
     },
     "metadata": {
      "needs_background": "light"
     },
     "output_type": "display_data"
    }
   ],
   "source": [
    "plt.scatter(y_predict, y_test)\n"
   ]
  },
  {
   "cell_type": "code",
   "execution_count": 19,
   "metadata": {},
   "outputs": [
    {
     "name": "stdout",
     "output_type": "stream",
     "text": [
      "0.9964694145786693\n"
     ]
    }
   ],
   "source": [
    "#Calculating the rsquared score\n",
    "from sklearn.metrics import r2_score\n",
    "print(r2_score(y_predict, y_test))"
   ]
  },
  {
   "cell_type": "markdown",
   "metadata": {},
   "source": [
    "### Present Statewise Analytics- India"
   ]
  },
  {
   "cell_type": "code",
   "execution_count": 20,
   "metadata": {},
   "outputs": [
    {
     "data": {
      "text/html": [
       "<div>\n",
       "<style scoped>\n",
       "    .dataframe tbody tr th:only-of-type {\n",
       "        vertical-align: middle;\n",
       "    }\n",
       "\n",
       "    .dataframe tbody tr th {\n",
       "        vertical-align: top;\n",
       "    }\n",
       "\n",
       "    .dataframe thead th {\n",
       "        text-align: right;\n",
       "    }\n",
       "</style>\n",
       "<table border=\"1\" class=\"dataframe\">\n",
       "  <thead>\n",
       "    <tr style=\"text-align: right;\">\n",
       "      <th></th>\n",
       "      <th>State_UTs</th>\n",
       "      <th>Confirmed</th>\n",
       "      <th>Active</th>\n",
       "      <th>Recovered</th>\n",
       "      <th>Deceased</th>\n",
       "      <th>Total Population</th>\n",
       "    </tr>\n",
       "  </thead>\n",
       "  <tbody>\n",
       "    <tr>\n",
       "      <th>0</th>\n",
       "      <td>Andaman and Nicobar</td>\n",
       "      <td>1351</td>\n",
       "      <td>831</td>\n",
       "      <td>500</td>\n",
       "      <td>20</td>\n",
       "      <td>380581</td>\n",
       "    </tr>\n",
       "    <tr>\n",
       "      <th>1</th>\n",
       "      <td>Andhra Pradesh</td>\n",
       "      <td>217040</td>\n",
       "      <td>85486</td>\n",
       "      <td>129615</td>\n",
       "      <td>1939</td>\n",
       "      <td>49577103</td>\n",
       "    </tr>\n",
       "    <tr>\n",
       "      <th>2</th>\n",
       "      <td>Arunachal Pradesh</td>\n",
       "      <td>2117</td>\n",
       "      <td>684</td>\n",
       "      <td>1430</td>\n",
       "      <td>3</td>\n",
       "      <td>1383727</td>\n",
       "    </tr>\n",
       "    <tr>\n",
       "      <th>3</th>\n",
       "      <td>Assam</td>\n",
       "      <td>57714</td>\n",
       "      <td>16983</td>\n",
       "      <td>40591</td>\n",
       "      <td>140</td>\n",
       "      <td>31205576</td>\n",
       "    </tr>\n",
       "    <tr>\n",
       "      <th>4</th>\n",
       "      <td>Bihar</td>\n",
       "      <td>75294</td>\n",
       "      <td>26669</td>\n",
       "      <td>48243</td>\n",
       "      <td>382</td>\n",
       "      <td>104099452</td>\n",
       "    </tr>\n",
       "  </tbody>\n",
       "</table>\n",
       "</div>"
      ],
      "text/plain": [
       "             State_UTs  Confirmed  Active  Recovered  Deceased  \\\n",
       "0  Andaman and Nicobar       1351     831        500        20   \n",
       "1       Andhra Pradesh     217040   85486     129615      1939   \n",
       "2    Arunachal Pradesh       2117     684       1430         3   \n",
       "3                Assam      57714   16983      40591       140   \n",
       "4                Bihar      75294   26669      48243       382   \n",
       "\n",
       "   Total Population  \n",
       "0            380581  \n",
       "1          49577103  \n",
       "2           1383727  \n",
       "3          31205576  \n",
       "4         104099452  "
      ]
     },
     "execution_count": 20,
     "metadata": {},
     "output_type": "execute_result"
    }
   ],
   "source": [
    "data=pd.read_csv('Latest States_India Covid 19 Report.csv')\n",
    "data.head()"
   ]
  },
  {
   "cell_type": "code",
   "execution_count": 21,
   "metadata": {},
   "outputs": [
    {
     "name": "stdout",
     "output_type": "stream",
     "text": [
      "<class 'pandas.core.frame.DataFrame'>\n",
      "RangeIndex: 36 entries, 0 to 35\n",
      "Data columns (total 6 columns):\n",
      " #   Column            Non-Null Count  Dtype \n",
      "---  ------            --------------  ----- \n",
      " 0   State_UTs         36 non-null     object\n",
      " 1   Confirmed         36 non-null     int64 \n",
      " 2   Active            36 non-null     int64 \n",
      " 3   Recovered         36 non-null     int64 \n",
      " 4   Deceased          36 non-null     int64 \n",
      " 5   Total Population  36 non-null     int64 \n",
      "dtypes: int64(5), object(1)\n",
      "memory usage: 1.8+ KB\n"
     ]
    }
   ],
   "source": [
    "data.info()"
   ]
  },
  {
   "cell_type": "code",
   "execution_count": 22,
   "metadata": {},
   "outputs": [],
   "source": [
    "data.columns\n",
    "X=data[['Active', 'Recovered', 'Deceased']].values"
   ]
  },
  {
   "cell_type": "code",
   "execution_count": 23,
   "metadata": {},
   "outputs": [
    {
     "data": {
      "text/plain": [
       "array([[-0.55148786, -0.58509512, -0.39707087],\n",
       "       [ 2.25515269,  1.27397508,  0.24596446],\n",
       "       [-0.55636148, -0.57170446, -0.40276738],\n",
       "       [-0.01598661, -0.00784242, -0.35686022],\n",
       "       [ 0.30514174,  0.10233537, -0.27576874]])"
      ]
     },
     "execution_count": 23,
     "metadata": {},
     "output_type": "execute_result"
    }
   ],
   "source": [
    "from sklearn import preprocessing\n",
    "X=preprocessing.StandardScaler().fit(X).transform(X.astype(int))\n",
    "X[0:5]"
   ]
  },
  {
   "cell_type": "code",
   "execution_count": 51,
   "metadata": {},
   "outputs": [
    {
     "data": {
      "image/png": "[encoded data removed]",
      "text/plain": [
       "<Figure size 720x360 with 1 Axes>"
      ]
     },
     "metadata": {
      "needs_background": "light"
     },
     "output_type": "display_data"
    }
   ],
   "source": [
    "from matplotlib import pyplot as plt\n",
    "plt.figure(figsize=(10, 5))\n",
    "plt.title('Statewise Analysis of India : ',fontweight='bold')\n",
    "\n",
    "plt.bar(data.State_UTs,data.Recovered, color='#02deaf', label='Cured Cases')\n",
    "plt.bar(data.State_UTs,data.Active, color='gold', label='Active Cases')\n",
    "plt.bar(data.State_UTs,data.Deceased, color='slategrey', label='Death Cases')\n",
    "\n",
    "plt.xlabel('State/UTs',fontweight='bold',labelpad=10)\n",
    "plt.ylabel('Cases',fontweight='bold',labelpad=15,rotation=0)\n",
    "plt.xticks(data.State_UTs,rotation=90 )\n",
    "#plt.xlim([0,143])\n",
    "#plt.subplots_adjust(-1)\n",
    "plt.legend()\n",
    "plt.show()\n"
   ]
  },
  {
   "cell_type": "markdown",
   "metadata": {},
   "source": [
    "### Classifier Model "
   ]
  },
  {
   "cell_type": "code",
   "execution_count": 25,
   "metadata": {},
   "outputs": [
    {
     "data": {
      "text/html": [
       "<div>\n",
       "<style scoped>\n",
       "    .dataframe tbody tr th:only-of-type {\n",
       "        vertical-align: middle;\n",
       "    }\n",
       "\n",
       "    .dataframe tbody tr th {\n",
       "        vertical-align: top;\n",
       "    }\n",
       "\n",
       "    .dataframe thead th {\n",
       "        text-align: right;\n",
       "    }\n",
       "</style>\n",
       "<table border=\"1\" class=\"dataframe\">\n",
       "  <thead>\n",
       "    <tr style=\"text-align: right;\">\n",
       "      <th></th>\n",
       "      <th>Date</th>\n",
       "      <th>Time</th>\n",
       "      <th>State/UT</th>\n",
       "      <th>ConfirmedIndianNational</th>\n",
       "      <th>Gender</th>\n",
       "      <th>ConfirmedForeignNational</th>\n",
       "      <th>Age</th>\n",
       "      <th>Serious_symptoms</th>\n",
       "      <th>Less_common_symptoms</th>\n",
       "      <th>Most_common_symptoms</th>\n",
       "      <th>Severity</th>\n",
       "      <th>Patient_Status</th>\n",
       "    </tr>\n",
       "  </thead>\n",
       "  <tbody>\n",
       "    <tr>\n",
       "      <th>0</th>\n",
       "      <td>30-01-2020</td>\n",
       "      <td>6:00 PM</td>\n",
       "      <td>Kerala</td>\n",
       "      <td>1</td>\n",
       "      <td>Male</td>\n",
       "      <td>0</td>\n",
       "      <td>66</td>\n",
       "      <td>chest pain or pressure</td>\n",
       "      <td>headache</td>\n",
       "      <td>fever</td>\n",
       "      <td>Moderate</td>\n",
       "      <td>Covid</td>\n",
       "    </tr>\n",
       "    <tr>\n",
       "      <th>1</th>\n",
       "      <td>31-01-2020</td>\n",
       "      <td>6:00 PM</td>\n",
       "      <td>Kerala</td>\n",
       "      <td>1</td>\n",
       "      <td>Male</td>\n",
       "      <td>0</td>\n",
       "      <td>9</td>\n",
       "      <td>loss of speech or movement</td>\n",
       "      <td>loss of taste or smell</td>\n",
       "      <td>tiredness</td>\n",
       "      <td>Mild</td>\n",
       "      <td>Flu</td>\n",
       "    </tr>\n",
       "    <tr>\n",
       "      <th>2</th>\n",
       "      <td>02-01-2020</td>\n",
       "      <td>6:00 PM</td>\n",
       "      <td>Kerala</td>\n",
       "      <td>2</td>\n",
       "      <td>Male</td>\n",
       "      <td>0</td>\n",
       "      <td>60</td>\n",
       "      <td>chest pain or pressure</td>\n",
       "      <td>loss of taste or smell</td>\n",
       "      <td>dry cough</td>\n",
       "      <td>Mild</td>\n",
       "      <td>Covid</td>\n",
       "    </tr>\n",
       "    <tr>\n",
       "      <th>3</th>\n",
       "      <td>02-02-2020</td>\n",
       "      <td>6:00 PM</td>\n",
       "      <td>Kerala</td>\n",
       "      <td>3</td>\n",
       "      <td>Male</td>\n",
       "      <td>0</td>\n",
       "      <td>74</td>\n",
       "      <td>chest pain or pressure</td>\n",
       "      <td>conjunctivitis</td>\n",
       "      <td>dry cough</td>\n",
       "      <td>Moderate</td>\n",
       "      <td>Covid</td>\n",
       "    </tr>\n",
       "    <tr>\n",
       "      <th>4</th>\n",
       "      <td>02-03-2020</td>\n",
       "      <td>6:00 PM</td>\n",
       "      <td>Kerala</td>\n",
       "      <td>3</td>\n",
       "      <td>Male</td>\n",
       "      <td>0</td>\n",
       "      <td>72</td>\n",
       "      <td>chest pain or pressure</td>\n",
       "      <td>sore throat</td>\n",
       "      <td>fever</td>\n",
       "      <td>Moderate</td>\n",
       "      <td>Covid</td>\n",
       "    </tr>\n",
       "    <tr>\n",
       "      <th>5</th>\n",
       "      <td>02-04-2020</td>\n",
       "      <td>6:00 PM</td>\n",
       "      <td>Kerala</td>\n",
       "      <td>3</td>\n",
       "      <td>Male</td>\n",
       "      <td>0</td>\n",
       "      <td>38</td>\n",
       "      <td>loss of speech or movement</td>\n",
       "      <td>sore throat</td>\n",
       "      <td>fever</td>\n",
       "      <td>Seviour</td>\n",
       "      <td>Flu</td>\n",
       "    </tr>\n",
       "    <tr>\n",
       "      <th>6</th>\n",
       "      <td>02-05-2020</td>\n",
       "      <td>6:00 PM</td>\n",
       "      <td>Kerala</td>\n",
       "      <td>3</td>\n",
       "      <td>Male</td>\n",
       "      <td>0</td>\n",
       "      <td>31</td>\n",
       "      <td>loss of speech or movement</td>\n",
       "      <td>headache</td>\n",
       "      <td>fever</td>\n",
       "      <td>Mild</td>\n",
       "      <td>Covid</td>\n",
       "    </tr>\n",
       "    <tr>\n",
       "      <th>7</th>\n",
       "      <td>02-06-2020</td>\n",
       "      <td>6:00 PM</td>\n",
       "      <td>Kerala</td>\n",
       "      <td>3</td>\n",
       "      <td>Male</td>\n",
       "      <td>0</td>\n",
       "      <td>85</td>\n",
       "      <td>chest pain or pressure</td>\n",
       "      <td>headache</td>\n",
       "      <td>fever</td>\n",
       "      <td>Mild</td>\n",
       "      <td>Flu</td>\n",
       "    </tr>\n",
       "    <tr>\n",
       "      <th>8</th>\n",
       "      <td>02-07-2020</td>\n",
       "      <td>6:00 PM</td>\n",
       "      <td>Kerala</td>\n",
       "      <td>3</td>\n",
       "      <td>Male</td>\n",
       "      <td>0</td>\n",
       "      <td>97</td>\n",
       "      <td>chest pain or pressure</td>\n",
       "      <td>aches and pains</td>\n",
       "      <td>dry cough</td>\n",
       "      <td>Mild</td>\n",
       "      <td>Covid</td>\n",
       "    </tr>\n",
       "    <tr>\n",
       "      <th>9</th>\n",
       "      <td>02-08-2020</td>\n",
       "      <td>6:00 PM</td>\n",
       "      <td>Kerala</td>\n",
       "      <td>3</td>\n",
       "      <td>Male</td>\n",
       "      <td>0</td>\n",
       "      <td>49</td>\n",
       "      <td>chest pain or pressure</td>\n",
       "      <td>a rash on skin, or discolouration of fingers o...</td>\n",
       "      <td>fever</td>\n",
       "      <td>Mild</td>\n",
       "      <td>Covid</td>\n",
       "    </tr>\n",
       "    <tr>\n",
       "      <th>10</th>\n",
       "      <td>02-09-2020</td>\n",
       "      <td>6:00 PM</td>\n",
       "      <td>Kerala</td>\n",
       "      <td>3</td>\n",
       "      <td>Female</td>\n",
       "      <td>0</td>\n",
       "      <td>87</td>\n",
       "      <td>difficulty breathing or shortness of breath</td>\n",
       "      <td>loss of taste or smell</td>\n",
       "      <td>fever</td>\n",
       "      <td>Moderate</td>\n",
       "      <td>Flu</td>\n",
       "    </tr>\n",
       "    <tr>\n",
       "      <th>11</th>\n",
       "      <td>02-10-2020</td>\n",
       "      <td>6:00 PM</td>\n",
       "      <td>Kerala</td>\n",
       "      <td>3</td>\n",
       "      <td>Male</td>\n",
       "      <td>0</td>\n",
       "      <td>39</td>\n",
       "      <td>difficulty breathing or shortness of breath</td>\n",
       "      <td>conjunctivitis</td>\n",
       "      <td>fever</td>\n",
       "      <td>Mild</td>\n",
       "      <td>Covid</td>\n",
       "    </tr>\n",
       "    <tr>\n",
       "      <th>12</th>\n",
       "      <td>02-11-2020</td>\n",
       "      <td>6:00 PM</td>\n",
       "      <td>Kerala</td>\n",
       "      <td>3</td>\n",
       "      <td>Male</td>\n",
       "      <td>0</td>\n",
       "      <td>87</td>\n",
       "      <td>chest pain or pressure</td>\n",
       "      <td>sore throat</td>\n",
       "      <td>dry cough</td>\n",
       "      <td>Seviour</td>\n",
       "      <td>Covid</td>\n",
       "    </tr>\n",
       "    <tr>\n",
       "      <th>13</th>\n",
       "      <td>02-12-2020</td>\n",
       "      <td>6:00 PM</td>\n",
       "      <td>Kerala</td>\n",
       "      <td>3</td>\n",
       "      <td>Male</td>\n",
       "      <td>0</td>\n",
       "      <td>70</td>\n",
       "      <td>chest pain or pressure</td>\n",
       "      <td>sore throat</td>\n",
       "      <td>dry cough</td>\n",
       "      <td>Moderate</td>\n",
       "      <td>Flu</td>\n",
       "    </tr>\n",
       "    <tr>\n",
       "      <th>14</th>\n",
       "      <td>13-02-2020</td>\n",
       "      <td>6:00 PM</td>\n",
       "      <td>Kerala</td>\n",
       "      <td>3</td>\n",
       "      <td>Female</td>\n",
       "      <td>0</td>\n",
       "      <td>95</td>\n",
       "      <td>chest pain or pressure</td>\n",
       "      <td>headache</td>\n",
       "      <td>fever</td>\n",
       "      <td>Mild</td>\n",
       "      <td>Flu</td>\n",
       "    </tr>\n",
       "    <tr>\n",
       "      <th>15</th>\n",
       "      <td>14-02-2020</td>\n",
       "      <td>6:00 PM</td>\n",
       "      <td>Kerala</td>\n",
       "      <td>3</td>\n",
       "      <td>Male</td>\n",
       "      <td>0</td>\n",
       "      <td>13</td>\n",
       "      <td>difficulty breathing or shortness of breath</td>\n",
       "      <td>headache</td>\n",
       "      <td>tiredness</td>\n",
       "      <td>Mild</td>\n",
       "      <td>Flu</td>\n",
       "    </tr>\n",
       "    <tr>\n",
       "      <th>16</th>\n",
       "      <td>15-02-2020</td>\n",
       "      <td>6:00 PM</td>\n",
       "      <td>Kerala</td>\n",
       "      <td>3</td>\n",
       "      <td>Female</td>\n",
       "      <td>0</td>\n",
       "      <td>12</td>\n",
       "      <td>loss of speech or movement</td>\n",
       "      <td>aches and pains</td>\n",
       "      <td>tiredness</td>\n",
       "      <td>Mild</td>\n",
       "      <td>Flu</td>\n",
       "    </tr>\n",
       "    <tr>\n",
       "      <th>17</th>\n",
       "      <td>16-02-2020</td>\n",
       "      <td>6:00 PM</td>\n",
       "      <td>Kerala</td>\n",
       "      <td>3</td>\n",
       "      <td>Female</td>\n",
       "      <td>0</td>\n",
       "      <td>93</td>\n",
       "      <td>loss of speech or movement</td>\n",
       "      <td>a rash on skin, or discolouration of fingers o...</td>\n",
       "      <td>fever</td>\n",
       "      <td>Mild</td>\n",
       "      <td>Covid</td>\n",
       "    </tr>\n",
       "    <tr>\n",
       "      <th>18</th>\n",
       "      <td>17-02-2020</td>\n",
       "      <td>6:00 PM</td>\n",
       "      <td>Kerala</td>\n",
       "      <td>3</td>\n",
       "      <td>Male</td>\n",
       "      <td>0</td>\n",
       "      <td>27</td>\n",
       "      <td>difficulty breathing or shortness of breath</td>\n",
       "      <td>diarrhoea</td>\n",
       "      <td>dry cough</td>\n",
       "      <td>Moderate</td>\n",
       "      <td>Flu</td>\n",
       "    </tr>\n",
       "    <tr>\n",
       "      <th>19</th>\n",
       "      <td>18-02-2020</td>\n",
       "      <td>6:00 PM</td>\n",
       "      <td>Kerala</td>\n",
       "      <td>3</td>\n",
       "      <td>Male</td>\n",
       "      <td>0</td>\n",
       "      <td>55</td>\n",
       "      <td>loss of speech or movement</td>\n",
       "      <td>headache</td>\n",
       "      <td>dry cough</td>\n",
       "      <td>Moderate</td>\n",
       "      <td>Covid</td>\n",
       "    </tr>\n",
       "    <tr>\n",
       "      <th>20</th>\n",
       "      <td>19-02-2020</td>\n",
       "      <td>6:00 PM</td>\n",
       "      <td>Kerala</td>\n",
       "      <td>3</td>\n",
       "      <td>Male</td>\n",
       "      <td>0</td>\n",
       "      <td>96</td>\n",
       "      <td>loss of speech or movement</td>\n",
       "      <td>aches and pains</td>\n",
       "      <td>tiredness</td>\n",
       "      <td>Moderate</td>\n",
       "      <td>Covid</td>\n",
       "    </tr>\n",
       "    <tr>\n",
       "      <th>21</th>\n",
       "      <td>20-02-2020</td>\n",
       "      <td>6:00 PM</td>\n",
       "      <td>Kerala</td>\n",
       "      <td>3</td>\n",
       "      <td>Female</td>\n",
       "      <td>0</td>\n",
       "      <td>97</td>\n",
       "      <td>chest pain or pressure</td>\n",
       "      <td>aches and pains</td>\n",
       "      <td>dry cough</td>\n",
       "      <td>Moderate</td>\n",
       "      <td>Covid</td>\n",
       "    </tr>\n",
       "    <tr>\n",
       "      <th>22</th>\n",
       "      <td>21-02-2020</td>\n",
       "      <td>6:00 PM</td>\n",
       "      <td>Kerala</td>\n",
       "      <td>3</td>\n",
       "      <td>Female</td>\n",
       "      <td>0</td>\n",
       "      <td>88</td>\n",
       "      <td>difficulty breathing or shortness of breath</td>\n",
       "      <td>sore throat</td>\n",
       "      <td>tiredness</td>\n",
       "      <td>Mild</td>\n",
       "      <td>Flu</td>\n",
       "    </tr>\n",
       "    <tr>\n",
       "      <th>23</th>\n",
       "      <td>22-02-2020</td>\n",
       "      <td>6:00 PM</td>\n",
       "      <td>Kerala</td>\n",
       "      <td>3</td>\n",
       "      <td>Female</td>\n",
       "      <td>0</td>\n",
       "      <td>54</td>\n",
       "      <td>loss of speech or movement</td>\n",
       "      <td>conjunctivitis</td>\n",
       "      <td>tiredness</td>\n",
       "      <td>Seviour</td>\n",
       "      <td>Flu</td>\n",
       "    </tr>\n",
       "    <tr>\n",
       "      <th>24</th>\n",
       "      <td>23-02-2020</td>\n",
       "      <td>6:00 PM</td>\n",
       "      <td>Kerala</td>\n",
       "      <td>3</td>\n",
       "      <td>Male</td>\n",
       "      <td>0</td>\n",
       "      <td>83</td>\n",
       "      <td>loss of speech or movement</td>\n",
       "      <td>conjunctivitis</td>\n",
       "      <td>fever</td>\n",
       "      <td>Mild</td>\n",
       "      <td>Flu</td>\n",
       "    </tr>\n",
       "    <tr>\n",
       "      <th>25</th>\n",
       "      <td>24-02-2020</td>\n",
       "      <td>6:00 PM</td>\n",
       "      <td>Kerala</td>\n",
       "      <td>3</td>\n",
       "      <td>Female</td>\n",
       "      <td>0</td>\n",
       "      <td>43</td>\n",
       "      <td>loss of speech or movement</td>\n",
       "      <td>sore throat</td>\n",
       "      <td>tiredness</td>\n",
       "      <td>Seviour</td>\n",
       "      <td>Covid</td>\n",
       "    </tr>\n",
       "    <tr>\n",
       "      <th>26</th>\n",
       "      <td>25-02-2020</td>\n",
       "      <td>6:00 PM</td>\n",
       "      <td>Kerala</td>\n",
       "      <td>3</td>\n",
       "      <td>Female</td>\n",
       "      <td>0</td>\n",
       "      <td>29</td>\n",
       "      <td>difficulty breathing or shortness of breath</td>\n",
       "      <td>a rash on skin, or discolouration of fingers o...</td>\n",
       "      <td>tiredness</td>\n",
       "      <td>Moderate</td>\n",
       "      <td>Flu</td>\n",
       "    </tr>\n",
       "    <tr>\n",
       "      <th>27</th>\n",
       "      <td>26-02-2020</td>\n",
       "      <td>6:00 PM</td>\n",
       "      <td>Kerala</td>\n",
       "      <td>3</td>\n",
       "      <td>Female</td>\n",
       "      <td>0</td>\n",
       "      <td>8</td>\n",
       "      <td>chest pain or pressure</td>\n",
       "      <td>conjunctivitis</td>\n",
       "      <td>tiredness</td>\n",
       "      <td>Mild</td>\n",
       "      <td>Covid</td>\n",
       "    </tr>\n",
       "    <tr>\n",
       "      <th>28</th>\n",
       "      <td>27-02-2020</td>\n",
       "      <td>6:00 PM</td>\n",
       "      <td>Kerala</td>\n",
       "      <td>3</td>\n",
       "      <td>Male</td>\n",
       "      <td>0</td>\n",
       "      <td>12</td>\n",
       "      <td>loss of speech or movement</td>\n",
       "      <td>diarrhoea</td>\n",
       "      <td>dry cough</td>\n",
       "      <td>Moderate</td>\n",
       "      <td>Flu</td>\n",
       "    </tr>\n",
       "    <tr>\n",
       "      <th>29</th>\n",
       "      <td>28-02-2020</td>\n",
       "      <td>6:00 PM</td>\n",
       "      <td>Kerala</td>\n",
       "      <td>3</td>\n",
       "      <td>Female</td>\n",
       "      <td>0</td>\n",
       "      <td>97</td>\n",
       "      <td>loss of speech or movement</td>\n",
       "      <td>headache</td>\n",
       "      <td>tiredness</td>\n",
       "      <td>Moderate</td>\n",
       "      <td>Flu</td>\n",
       "    </tr>\n",
       "  </tbody>\n",
       "</table>\n",
       "</div>"
      ],
      "text/plain": [
       "          Date     Time State/UT  ConfirmedIndianNational  Gender  \\\n",
       "0   30-01-2020  6:00 PM   Kerala                        1    Male   \n",
       "1   31-01-2020  6:00 PM   Kerala                        1    Male   \n",
       "2   02-01-2020  6:00 PM   Kerala                        2    Male   \n",
       "3   02-02-2020  6:00 PM   Kerala                        3    Male   \n",
       "4   02-03-2020  6:00 PM   Kerala                        3    Male   \n",
       "5   02-04-2020  6:00 PM   Kerala                        3    Male   \n",
       "6   02-05-2020  6:00 PM   Kerala                        3    Male   \n",
       "7   02-06-2020  6:00 PM   Kerala                        3    Male   \n",
       "8   02-07-2020  6:00 PM   Kerala                        3    Male   \n",
       "9   02-08-2020  6:00 PM   Kerala                        3    Male   \n",
       "10  02-09-2020  6:00 PM   Kerala                        3  Female   \n",
       "11  02-10-2020  6:00 PM   Kerala                        3    Male   \n",
       "12  02-11-2020  6:00 PM   Kerala                        3    Male   \n",
       "13  02-12-2020  6:00 PM   Kerala                        3    Male   \n",
       "14  13-02-2020  6:00 PM   Kerala                        3  Female   \n",
       "15  14-02-2020  6:00 PM   Kerala                        3    Male   \n",
       "16  15-02-2020  6:00 PM   Kerala                        3  Female   \n",
       "17  16-02-2020  6:00 PM   Kerala                        3  Female   \n",
       "18  17-02-2020  6:00 PM   Kerala                        3    Male   \n",
       "19  18-02-2020  6:00 PM   Kerala                        3    Male   \n",
       "20  19-02-2020  6:00 PM   Kerala                        3    Male   \n",
       "21  20-02-2020  6:00 PM   Kerala                        3  Female   \n",
       "22  21-02-2020  6:00 PM   Kerala                        3  Female   \n",
       "23  22-02-2020  6:00 PM   Kerala                        3  Female   \n",
       "24  23-02-2020  6:00 PM   Kerala                        3    Male   \n",
       "25  24-02-2020  6:00 PM   Kerala                        3  Female   \n",
       "26  25-02-2020  6:00 PM   Kerala                        3  Female   \n",
       "27  26-02-2020  6:00 PM   Kerala                        3  Female   \n",
       "28  27-02-2020  6:00 PM   Kerala                        3    Male   \n",
       "29  28-02-2020  6:00 PM   Kerala                        3  Female   \n",
       "\n",
       "    ConfirmedForeignNational  Age   \\\n",
       "0                          0    66   \n",
       "1                          0     9   \n",
       "2                          0    60   \n",
       "3                          0    74   \n",
       "4                          0    72   \n",
       "5                          0    38   \n",
       "6                          0    31   \n",
       "7                          0    85   \n",
       "8                          0    97   \n",
       "9                          0    49   \n",
       "10                         0    87   \n",
       "11                         0    39   \n",
       "12                         0    87   \n",
       "13                         0    70   \n",
       "14                         0    95   \n",
       "15                         0    13   \n",
       "16                         0    12   \n",
       "17                         0    93   \n",
       "18                         0    27   \n",
       "19                         0    55   \n",
       "20                         0    96   \n",
       "21                         0    97   \n",
       "22                         0    88   \n",
       "23                         0    54   \n",
       "24                         0    83   \n",
       "25                         0    43   \n",
       "26                         0    29   \n",
       "27                         0     8   \n",
       "28                         0    12   \n",
       "29                         0    97   \n",
       "\n",
       "                               Serious_symptoms  \\\n",
       "0                        chest pain or pressure   \n",
       "1                    loss of speech or movement   \n",
       "2                        chest pain or pressure   \n",
       "3                        chest pain or pressure   \n",
       "4                        chest pain or pressure   \n",
       "5                    loss of speech or movement   \n",
       "6                    loss of speech or movement   \n",
       "7                        chest pain or pressure   \n",
       "8                        chest pain or pressure   \n",
       "9                        chest pain or pressure   \n",
       "10  difficulty breathing or shortness of breath   \n",
       "11  difficulty breathing or shortness of breath   \n",
       "12                       chest pain or pressure   \n",
       "13                       chest pain or pressure   \n",
       "14                       chest pain or pressure   \n",
       "15  difficulty breathing or shortness of breath   \n",
       "16                   loss of speech or movement   \n",
       "17                   loss of speech or movement   \n",
       "18  difficulty breathing or shortness of breath   \n",
       "19                   loss of speech or movement   \n",
       "20                   loss of speech or movement   \n",
       "21                       chest pain or pressure   \n",
       "22  difficulty breathing or shortness of breath   \n",
       "23                   loss of speech or movement   \n",
       "24                   loss of speech or movement   \n",
       "25                   loss of speech or movement   \n",
       "26  difficulty breathing or shortness of breath   \n",
       "27                       chest pain or pressure   \n",
       "28                   loss of speech or movement   \n",
       "29                   loss of speech or movement   \n",
       "\n",
       "                                 Less_common_symptoms Most_common_symptoms  \\\n",
       "0                                            headache                fever   \n",
       "1                              loss of taste or smell            tiredness   \n",
       "2                              loss of taste or smell            dry cough   \n",
       "3                                      conjunctivitis            dry cough   \n",
       "4                                         sore throat                fever   \n",
       "5                                         sore throat                fever   \n",
       "6                                            headache                fever   \n",
       "7                                            headache                fever   \n",
       "8                                     aches and pains            dry cough   \n",
       "9   a rash on skin, or discolouration of fingers o...                fever   \n",
       "10                             loss of taste or smell                fever   \n",
       "11                                     conjunctivitis                fever   \n",
       "12                                        sore throat            dry cough   \n",
       "13                                        sore throat            dry cough   \n",
       "14                                           headache                fever   \n",
       "15                                           headache            tiredness   \n",
       "16                                    aches and pains            tiredness   \n",
       "17  a rash on skin, or discolouration of fingers o...                fever   \n",
       "18                                          diarrhoea            dry cough   \n",
       "19                                           headache            dry cough   \n",
       "20                                    aches and pains            tiredness   \n",
       "21                                    aches and pains            dry cough   \n",
       "22                                        sore throat            tiredness   \n",
       "23                                     conjunctivitis            tiredness   \n",
       "24                                     conjunctivitis                fever   \n",
       "25                                        sore throat            tiredness   \n",
       "26  a rash on skin, or discolouration of fingers o...            tiredness   \n",
       "27                                     conjunctivitis            tiredness   \n",
       "28                                          diarrhoea            dry cough   \n",
       "29                                           headache            tiredness   \n",
       "\n",
       "    Severity Patient_Status  \n",
       "0   Moderate          Covid  \n",
       "1       Mild            Flu  \n",
       "2       Mild          Covid  \n",
       "3   Moderate          Covid  \n",
       "4   Moderate          Covid  \n",
       "5    Seviour            Flu  \n",
       "6       Mild          Covid  \n",
       "7       Mild            Flu  \n",
       "8       Mild          Covid  \n",
       "9       Mild          Covid  \n",
       "10  Moderate            Flu  \n",
       "11      Mild          Covid  \n",
       "12   Seviour          Covid  \n",
       "13  Moderate            Flu  \n",
       "14      Mild            Flu  \n",
       "15      Mild            Flu  \n",
       "16      Mild            Flu  \n",
       "17      Mild          Covid  \n",
       "18  Moderate            Flu  \n",
       "19  Moderate          Covid  \n",
       "20  Moderate          Covid  \n",
       "21  Moderate          Covid  \n",
       "22      Mild            Flu  \n",
       "23   Seviour            Flu  \n",
       "24      Mild            Flu  \n",
       "25   Seviour          Covid  \n",
       "26  Moderate            Flu  \n",
       "27      Mild          Covid  \n",
       "28  Moderate            Flu  \n",
       "29  Moderate            Flu  "
      ]
     },
     "execution_count": 25,
     "metadata": {},
     "output_type": "execute_result"
    }
   ],
   "source": [
    "data2=pd.read_csv('severity gauging classifier data.csv')\n",
    "data2.head(30)"
   ]
  },
  {
   "cell_type": "code",
   "execution_count": 26,
   "metadata": {},
   "outputs": [
    {
     "name": "stderr",
     "output_type": "stream",
     "text": [
      "C:\\anaconda\\lib\\site-packages\\ipykernel_launcher.py:2: SettingWithCopyWarning: \n",
      "A value is trying to be set on a copy of a slice from a DataFrame\n",
      "\n",
      "See the caveats in the documentation: https://pandas.pydata.org/pandas-docs/stable/user_guide/indexing.html#returning-a-view-versus-a-copy\n",
      "  \n",
      "C:\\anaconda\\lib\\site-packages\\ipykernel_launcher.py:3: SettingWithCopyWarning: \n",
      "A value is trying to be set on a copy of a slice from a DataFrame\n",
      "\n",
      "See the caveats in the documentation: https://pandas.pydata.org/pandas-docs/stable/user_guide/indexing.html#returning-a-view-versus-a-copy\n",
      "  This is separate from the ipykernel package so we can avoid doing imports until\n",
      "C:\\anaconda\\lib\\site-packages\\ipykernel_launcher.py:5: SettingWithCopyWarning: \n",
      "A value is trying to be set on a copy of a slice from a DataFrame\n",
      "\n",
      "See the caveats in the documentation: https://pandas.pydata.org/pandas-docs/stable/user_guide/indexing.html#returning-a-view-versus-a-copy\n",
      "  \"\"\"\n",
      "C:\\anaconda\\lib\\site-packages\\ipykernel_launcher.py:6: SettingWithCopyWarning: \n",
      "A value is trying to be set on a copy of a slice from a DataFrame\n",
      "\n",
      "See the caveats in the documentation: https://pandas.pydata.org/pandas-docs/stable/user_guide/indexing.html#returning-a-view-versus-a-copy\n",
      "  \n",
      "C:\\anaconda\\lib\\site-packages\\ipykernel_launcher.py:7: SettingWithCopyWarning: \n",
      "A value is trying to be set on a copy of a slice from a DataFrame\n",
      "\n",
      "See the caveats in the documentation: https://pandas.pydata.org/pandas-docs/stable/user_guide/indexing.html#returning-a-view-versus-a-copy\n",
      "  import sys\n",
      "C:\\anaconda\\lib\\site-packages\\ipykernel_launcher.py:10: SettingWithCopyWarning: \n",
      "A value is trying to be set on a copy of a slice from a DataFrame\n",
      "\n",
      "See the caveats in the documentation: https://pandas.pydata.org/pandas-docs/stable/user_guide/indexing.html#returning-a-view-versus-a-copy\n",
      "  # Remove the CWD from sys.path while we load stuff.\n",
      "C:\\anaconda\\lib\\site-packages\\ipykernel_launcher.py:11: SettingWithCopyWarning: \n",
      "A value is trying to be set on a copy of a slice from a DataFrame\n",
      "\n",
      "See the caveats in the documentation: https://pandas.pydata.org/pandas-docs/stable/user_guide/indexing.html#returning-a-view-versus-a-copy\n",
      "  # This is added back by InteractiveShellApp.init_path()\n",
      "C:\\anaconda\\lib\\site-packages\\ipykernel_launcher.py:12: SettingWithCopyWarning: \n",
      "A value is trying to be set on a copy of a slice from a DataFrame\n",
      "\n",
      "See the caveats in the documentation: https://pandas.pydata.org/pandas-docs/stable/user_guide/indexing.html#returning-a-view-versus-a-copy\n",
      "  if sys.path[0] == '':\n",
      "C:\\anaconda\\lib\\site-packages\\ipykernel_launcher.py:13: SettingWithCopyWarning: \n",
      "A value is trying to be set on a copy of a slice from a DataFrame\n",
      "\n",
      "See the caveats in the documentation: https://pandas.pydata.org/pandas-docs/stable/user_guide/indexing.html#returning-a-view-versus-a-copy\n",
      "  del sys.path[0]\n",
      "C:\\anaconda\\lib\\site-packages\\ipykernel_launcher.py:14: SettingWithCopyWarning: \n",
      "A value is trying to be set on a copy of a slice from a DataFrame\n",
      "\n",
      "See the caveats in the documentation: https://pandas.pydata.org/pandas-docs/stable/user_guide/indexing.html#returning-a-view-versus-a-copy\n",
      "  \n",
      "C:\\anaconda\\lib\\site-packages\\ipykernel_launcher.py:15: SettingWithCopyWarning: \n",
      "A value is trying to be set on a copy of a slice from a DataFrame\n",
      "\n",
      "See the caveats in the documentation: https://pandas.pydata.org/pandas-docs/stable/user_guide/indexing.html#returning-a-view-versus-a-copy\n",
      "  from ipykernel import kernelapp as app\n",
      "C:\\anaconda\\lib\\site-packages\\ipykernel_launcher.py:16: SettingWithCopyWarning: \n",
      "A value is trying to be set on a copy of a slice from a DataFrame\n",
      "\n",
      "See the caveats in the documentation: https://pandas.pydata.org/pandas-docs/stable/user_guide/indexing.html#returning-a-view-versus-a-copy\n",
      "  app.launch_new_instance()\n",
      "C:\\anaconda\\lib\\site-packages\\ipykernel_launcher.py:18: SettingWithCopyWarning: \n",
      "A value is trying to be set on a copy of a slice from a DataFrame\n",
      "\n",
      "See the caveats in the documentation: https://pandas.pydata.org/pandas-docs/stable/user_guide/indexing.html#returning-a-view-versus-a-copy\n",
      "C:\\anaconda\\lib\\site-packages\\ipykernel_launcher.py:19: SettingWithCopyWarning: \n",
      "A value is trying to be set on a copy of a slice from a DataFrame\n",
      "\n",
      "See the caveats in the documentation: https://pandas.pydata.org/pandas-docs/stable/user_guide/indexing.html#returning-a-view-versus-a-copy\n"
     ]
    },
    {
     "name": "stdout",
     "output_type": "stream",
     "text": [
      "<class 'pandas.core.frame.DataFrame'>\n",
      "RangeIndex: 3135 entries, 0 to 3134\n",
      "Data columns (total 12 columns):\n",
      " #   Column                    Non-Null Count  Dtype \n",
      "---  ------                    --------------  ----- \n",
      " 0   Date                      3135 non-null   object\n",
      " 1   Time                      3135 non-null   object\n",
      " 2   State/UT                  3135 non-null   object\n",
      " 3   ConfirmedIndianNational   3135 non-null   int64 \n",
      " 4   Gender                    3135 non-null   int32 \n",
      " 5   ConfirmedForeignNational  3135 non-null   int64 \n",
      " 6   Age                       3135 non-null   int64 \n",
      " 7   Serious_symptoms          3135 non-null   int32 \n",
      " 8   Less_common_symptoms      3135 non-null   int32 \n",
      " 9   Most_common_symptoms      3135 non-null   int32 \n",
      " 10  Severity                  3135 non-null   int32 \n",
      " 11  Patient_Status            3135 non-null   int32 \n",
      "dtypes: int32(6), int64(3), object(3)\n",
      "memory usage: 220.6+ KB\n"
     ]
    },
    {
     "name": "stderr",
     "output_type": "stream",
     "text": [
      "C:\\anaconda\\lib\\site-packages\\ipykernel_launcher.py:20: SettingWithCopyWarning: \n",
      "A value is trying to be set on a copy of a slice from a DataFrame\n",
      "\n",
      "See the caveats in the documentation: https://pandas.pydata.org/pandas-docs/stable/user_guide/indexing.html#returning-a-view-versus-a-copy\n",
      "C:\\anaconda\\lib\\site-packages\\ipykernel_launcher.py:22: SettingWithCopyWarning: \n",
      "A value is trying to be set on a copy of a slice from a DataFrame\n",
      "\n",
      "See the caveats in the documentation: https://pandas.pydata.org/pandas-docs/stable/user_guide/indexing.html#returning-a-view-versus-a-copy\n",
      "C:\\anaconda\\lib\\site-packages\\ipykernel_launcher.py:23: SettingWithCopyWarning: \n",
      "A value is trying to be set on a copy of a slice from a DataFrame\n",
      "\n",
      "See the caveats in the documentation: https://pandas.pydata.org/pandas-docs/stable/user_guide/indexing.html#returning-a-view-versus-a-copy\n",
      "C:\\anaconda\\lib\\site-packages\\ipykernel_launcher.py:24: SettingWithCopyWarning: \n",
      "A value is trying to be set on a copy of a slice from a DataFrame\n",
      "\n",
      "See the caveats in the documentation: https://pandas.pydata.org/pandas-docs/stable/user_guide/indexing.html#returning-a-view-versus-a-copy\n",
      "C:\\anaconda\\lib\\site-packages\\ipykernel_launcher.py:26: SettingWithCopyWarning: \n",
      "A value is trying to be set on a copy of a slice from a DataFrame\n",
      "\n",
      "See the caveats in the documentation: https://pandas.pydata.org/pandas-docs/stable/user_guide/indexing.html#returning-a-view-versus-a-copy\n",
      "C:\\anaconda\\lib\\site-packages\\ipykernel_launcher.py:27: SettingWithCopyWarning: \n",
      "A value is trying to be set on a copy of a slice from a DataFrame\n",
      "\n",
      "See the caveats in the documentation: https://pandas.pydata.org/pandas-docs/stable/user_guide/indexing.html#returning-a-view-versus-a-copy\n"
     ]
    }
   ],
   "source": [
    "#encoding the data into integer format\n",
    "data2.Gender[data2.Gender =='Male']=1\n",
    "data2.Gender[data2.Gender =='Female']=2\n",
    "\n",
    "data2.Serious_symptoms[data2.Serious_symptoms=='chest pain or pressure']=1\n",
    "data2.Serious_symptoms[data2.Serious_symptoms=='loss of speech or movement']=2\n",
    "data2.Serious_symptoms[data2.Serious_symptoms=='difficulty breathing or shortness of breath']=3\n",
    "\n",
    "\n",
    "data2.Less_common_symptoms[data2.Less_common_symptoms=='headache']=1\n",
    "data2.Less_common_symptoms[data2.Less_common_symptoms=='loss of taste or smell']=2\n",
    "data2.Less_common_symptoms[data2.Less_common_symptoms=='sore throat']=3\n",
    "data2.Less_common_symptoms[data2.Less_common_symptoms=='conjunctivitis']=4\n",
    "data2.Less_common_symptoms[data2.Less_common_symptoms=='diarrhoea']=5\n",
    "data2.Less_common_symptoms[data2.Less_common_symptoms=='aches and pains']=6\n",
    "data2.Less_common_symptoms[data2.Less_common_symptoms=='a rash on skin, or discolouration of fingers or toes']=7\n",
    "\n",
    "data2.Most_common_symptoms[data2.Most_common_symptoms=='fever']=1\n",
    "data2.Most_common_symptoms[data2.Most_common_symptoms=='tiredness']=2\n",
    "data2.Most_common_symptoms[data2.Most_common_symptoms=='dry cough']=3\n",
    "\n",
    "data2.Severity[data2.Severity=='Mild']=1\n",
    "data2.Severity[data2.Severity=='Moderate']=2\n",
    "data2.Severity[data2.Severity=='Seviour']=3\n",
    "\n",
    "data2.Patient_Status[data2.Patient_Status=='Flu']=1\n",
    "data2.Patient_Status[data2.Patient_Status=='Covid']=2\n",
    "\n",
    "data2['Gender'] = data2['Gender'].astype('int')\n",
    "data2['Serious_symptoms'] = data2['Serious_symptoms'].astype('int')\n",
    "data2['Less_common_symptoms'] = data2['Less_common_symptoms'].astype('int')\n",
    "data2['Most_common_symptoms'] = data2['Most_common_symptoms'].astype('int')\n",
    "data2['Severity'] = data2['Severity'].astype('int')\n",
    "data2['Patient_Status'] = data2['Patient_Status'].astype('int')\n",
    "\n",
    "#dataset after encoding\n",
    "data2.head(20)\n",
    "data2.info()"
   ]
  },
  {
   "cell_type": "code",
   "execution_count": 27,
   "metadata": {},
   "outputs": [
    {
     "data": {
      "text/html": [
       "<div>\n",
       "<style scoped>\n",
       "    .dataframe tbody tr th:only-of-type {\n",
       "        vertical-align: middle;\n",
       "    }\n",
       "\n",
       "    .dataframe tbody tr th {\n",
       "        vertical-align: top;\n",
       "    }\n",
       "\n",
       "    .dataframe thead th {\n",
       "        text-align: right;\n",
       "    }\n",
       "</style>\n",
       "<table border=\"1\" class=\"dataframe\">\n",
       "  <thead>\n",
       "    <tr style=\"text-align: right;\">\n",
       "      <th></th>\n",
       "      <th>Date</th>\n",
       "      <th>Time</th>\n",
       "      <th>State/UT</th>\n",
       "      <th>ConfirmedIndianNational</th>\n",
       "      <th>Gender</th>\n",
       "      <th>ConfirmedForeignNational</th>\n",
       "      <th>Age</th>\n",
       "      <th>Serious_symptoms</th>\n",
       "      <th>Less_common_symptoms</th>\n",
       "      <th>Most_common_symptoms</th>\n",
       "      <th>Severity</th>\n",
       "      <th>Patient_Status</th>\n",
       "    </tr>\n",
       "  </thead>\n",
       "  <tbody>\n",
       "    <tr>\n",
       "      <th>0</th>\n",
       "      <td>True</td>\n",
       "      <td>True</td>\n",
       "      <td>True</td>\n",
       "      <td>True</td>\n",
       "      <td>True</td>\n",
       "      <td>True</td>\n",
       "      <td>True</td>\n",
       "      <td>True</td>\n",
       "      <td>True</td>\n",
       "      <td>True</td>\n",
       "      <td>True</td>\n",
       "      <td>True</td>\n",
       "    </tr>\n",
       "    <tr>\n",
       "      <th>1</th>\n",
       "      <td>True</td>\n",
       "      <td>True</td>\n",
       "      <td>True</td>\n",
       "      <td>True</td>\n",
       "      <td>True</td>\n",
       "      <td>True</td>\n",
       "      <td>True</td>\n",
       "      <td>True</td>\n",
       "      <td>True</td>\n",
       "      <td>True</td>\n",
       "      <td>True</td>\n",
       "      <td>True</td>\n",
       "    </tr>\n",
       "    <tr>\n",
       "      <th>2</th>\n",
       "      <td>True</td>\n",
       "      <td>True</td>\n",
       "      <td>True</td>\n",
       "      <td>True</td>\n",
       "      <td>True</td>\n",
       "      <td>True</td>\n",
       "      <td>True</td>\n",
       "      <td>True</td>\n",
       "      <td>True</td>\n",
       "      <td>True</td>\n",
       "      <td>True</td>\n",
       "      <td>True</td>\n",
       "    </tr>\n",
       "    <tr>\n",
       "      <th>3</th>\n",
       "      <td>True</td>\n",
       "      <td>True</td>\n",
       "      <td>True</td>\n",
       "      <td>True</td>\n",
       "      <td>True</td>\n",
       "      <td>True</td>\n",
       "      <td>True</td>\n",
       "      <td>True</td>\n",
       "      <td>True</td>\n",
       "      <td>True</td>\n",
       "      <td>True</td>\n",
       "      <td>True</td>\n",
       "    </tr>\n",
       "    <tr>\n",
       "      <th>4</th>\n",
       "      <td>True</td>\n",
       "      <td>True</td>\n",
       "      <td>True</td>\n",
       "      <td>True</td>\n",
       "      <td>True</td>\n",
       "      <td>True</td>\n",
       "      <td>True</td>\n",
       "      <td>True</td>\n",
       "      <td>True</td>\n",
       "      <td>True</td>\n",
       "      <td>True</td>\n",
       "      <td>True</td>\n",
       "    </tr>\n",
       "    <tr>\n",
       "      <th>...</th>\n",
       "      <td>...</td>\n",
       "      <td>...</td>\n",
       "      <td>...</td>\n",
       "      <td>...</td>\n",
       "      <td>...</td>\n",
       "      <td>...</td>\n",
       "      <td>...</td>\n",
       "      <td>...</td>\n",
       "      <td>...</td>\n",
       "      <td>...</td>\n",
       "      <td>...</td>\n",
       "      <td>...</td>\n",
       "    </tr>\n",
       "    <tr>\n",
       "      <th>3130</th>\n",
       "      <td>True</td>\n",
       "      <td>True</td>\n",
       "      <td>True</td>\n",
       "      <td>True</td>\n",
       "      <td>True</td>\n",
       "      <td>True</td>\n",
       "      <td>True</td>\n",
       "      <td>True</td>\n",
       "      <td>True</td>\n",
       "      <td>True</td>\n",
       "      <td>True</td>\n",
       "      <td>True</td>\n",
       "    </tr>\n",
       "    <tr>\n",
       "      <th>3131</th>\n",
       "      <td>True</td>\n",
       "      <td>True</td>\n",
       "      <td>True</td>\n",
       "      <td>True</td>\n",
       "      <td>True</td>\n",
       "      <td>True</td>\n",
       "      <td>True</td>\n",
       "      <td>True</td>\n",
       "      <td>True</td>\n",
       "      <td>True</td>\n",
       "      <td>True</td>\n",
       "      <td>True</td>\n",
       "    </tr>\n",
       "    <tr>\n",
       "      <th>3132</th>\n",
       "      <td>True</td>\n",
       "      <td>True</td>\n",
       "      <td>True</td>\n",
       "      <td>True</td>\n",
       "      <td>True</td>\n",
       "      <td>True</td>\n",
       "      <td>True</td>\n",
       "      <td>True</td>\n",
       "      <td>True</td>\n",
       "      <td>True</td>\n",
       "      <td>True</td>\n",
       "      <td>True</td>\n",
       "    </tr>\n",
       "    <tr>\n",
       "      <th>3133</th>\n",
       "      <td>True</td>\n",
       "      <td>True</td>\n",
       "      <td>True</td>\n",
       "      <td>True</td>\n",
       "      <td>True</td>\n",
       "      <td>True</td>\n",
       "      <td>True</td>\n",
       "      <td>True</td>\n",
       "      <td>True</td>\n",
       "      <td>True</td>\n",
       "      <td>True</td>\n",
       "      <td>True</td>\n",
       "    </tr>\n",
       "    <tr>\n",
       "      <th>3134</th>\n",
       "      <td>True</td>\n",
       "      <td>True</td>\n",
       "      <td>True</td>\n",
       "      <td>True</td>\n",
       "      <td>True</td>\n",
       "      <td>True</td>\n",
       "      <td>True</td>\n",
       "      <td>True</td>\n",
       "      <td>True</td>\n",
       "      <td>True</td>\n",
       "      <td>True</td>\n",
       "      <td>True</td>\n",
       "    </tr>\n",
       "  </tbody>\n",
       "</table>\n",
       "<p>3135 rows × 12 columns</p>\n",
       "</div>"
      ],
      "text/plain": [
       "      Date  Time  State/UT  ConfirmedIndianNational  Gender  \\\n",
       "0     True  True      True                     True    True   \n",
       "1     True  True      True                     True    True   \n",
       "2     True  True      True                     True    True   \n",
       "3     True  True      True                     True    True   \n",
       "4     True  True      True                     True    True   \n",
       "...    ...   ...       ...                      ...     ...   \n",
       "3130  True  True      True                     True    True   \n",
       "3131  True  True      True                     True    True   \n",
       "3132  True  True      True                     True    True   \n",
       "3133  True  True      True                     True    True   \n",
       "3134  True  True      True                     True    True   \n",
       "\n",
       "      ConfirmedForeignNational  Age   Serious_symptoms  Less_common_symptoms  \\\n",
       "0                         True  True              True                  True   \n",
       "1                         True  True              True                  True   \n",
       "2                         True  True              True                  True   \n",
       "3                         True  True              True                  True   \n",
       "4                         True  True              True                  True   \n",
       "...                        ...   ...               ...                   ...   \n",
       "3130                      True  True              True                  True   \n",
       "3131                      True  True              True                  True   \n",
       "3132                      True  True              True                  True   \n",
       "3133                      True  True              True                  True   \n",
       "3134                      True  True              True                  True   \n",
       "\n",
       "      Most_common_symptoms  Severity  Patient_Status  \n",
       "0                     True      True            True  \n",
       "1                     True      True            True  \n",
       "2                     True      True            True  \n",
       "3                     True      True            True  \n",
       "4                     True      True            True  \n",
       "...                    ...       ...             ...  \n",
       "3130                  True      True            True  \n",
       "3131                  True      True            True  \n",
       "3132                  True      True            True  \n",
       "3133                  True      True            True  \n",
       "3134                  True      True            True  \n",
       "\n",
       "[3135 rows x 12 columns]"
      ]
     },
     "execution_count": 27,
     "metadata": {},
     "output_type": "execute_result"
    }
   ],
   "source": [
    "data2.notnull()"
   ]
  },
  {
   "cell_type": "code",
   "execution_count": 28,
   "metadata": {},
   "outputs": [
    {
     "name": "stdout",
     "output_type": "stream",
     "text": [
      "<class 'pandas.core.frame.DataFrame'>\n",
      "RangeIndex: 3135 entries, 0 to 3134\n",
      "Data columns (total 12 columns):\n",
      " #   Column                    Non-Null Count  Dtype \n",
      "---  ------                    --------------  ----- \n",
      " 0   Date                      3135 non-null   object\n",
      " 1   Time                      3135 non-null   object\n",
      " 2   State/UT                  3135 non-null   object\n",
      " 3   ConfirmedIndianNational   3135 non-null   int64 \n",
      " 4   Gender                    3135 non-null   int32 \n",
      " 5   ConfirmedForeignNational  3135 non-null   int64 \n",
      " 6   Age                       3135 non-null   int64 \n",
      " 7   Serious_symptoms          3135 non-null   int32 \n",
      " 8   Less_common_symptoms      3135 non-null   int32 \n",
      " 9   Most_common_symptoms      3135 non-null   int32 \n",
      " 10  Severity                  3135 non-null   int32 \n",
      " 11  Patient_Status            3135 non-null   int32 \n",
      "dtypes: int32(6), int64(3), object(3)\n",
      "memory usage: 220.6+ KB\n"
     ]
    }
   ],
   "source": [
    "data2.info()"
   ]
  },
  {
   "cell_type": "code",
   "execution_count": 29,
   "metadata": {},
   "outputs": [
    {
     "name": "stdout",
     "output_type": "stream",
     "text": [
      "x: [[ 1  0 66 ...  1  1  2]\n",
      " [ 1  0  9 ...  2  2  1]\n",
      " [ 1  0 60 ...  2  3  1]\n",
      " ...\n",
      " [ 1  0 80 ...  4  3  1]\n",
      " [ 1  0 39 ...  1  1  2]\n",
      " [ 2  0 78 ...  2  1  1]]\n",
      "\n",
      "y: [2 1 2 ... 2 1 2]\n"
     ]
    }
   ],
   "source": [
    "x=data2[['Gender','ConfirmedForeignNational', 'Age ', 'Serious_symptoms','Less_common_symptoms', 'Most_common_symptoms', 'Severity']].values\n",
    "y=data2['Patient_Status'].values\n",
    "print('x:', x)\n",
    "print('\\ny:',y)"
   ]
  },
  {
   "cell_type": "code",
   "execution_count": 30,
   "metadata": {},
   "outputs": [
    {
     "data": {
      "text/plain": [
       "array([[-1.00031903, -0.14722546,  0.50650619, -1.21513239, -1.51212429,\n",
       "        -1.20390216, -0.02295141],\n",
       "       [-1.00031903, -0.14722546, -1.54904714,  0.00584198, -1.00861822,\n",
       "         0.01871957, -1.24248801],\n",
       "       [-1.00031903, -0.14722546,  0.29013216, -1.21513239, -1.00861822,\n",
       "         1.2413413 , -1.24248801],\n",
       "       [-1.00031903, -0.14722546,  0.79500491, -1.21513239, -0.00160608,\n",
       "         1.2413413 , -0.02295141],\n",
       "       [-1.00031903, -0.14722546,  0.72288023, -1.21513239, -0.50511215,\n",
       "        -1.20390216, -0.02295141]])"
      ]
     },
     "execution_count": 30,
     "metadata": {},
     "output_type": "execute_result"
    }
   ],
   "source": [
    "from sklearn import preprocessing\n",
    "x=preprocessing.StandardScaler().fit(x).transform(x.astype(int))\n",
    "x[0:5]"
   ]
  },
  {
   "cell_type": "code",
   "execution_count": 31,
   "metadata": {},
   "outputs": [
    {
     "name": "stdout",
     "output_type": "stream",
     "text": [
      "train set: (2508, 7) (2508,)\n",
      "test set: (627, 7) (627,)\n"
     ]
    }
   ],
   "source": [
    "#splitting the data into train & test data\n",
    "from sklearn.model_selection import train_test_split\n",
    "x_train, x_test, y_train, y_test = train_test_split( x, y, test_size=0.2, random_state=4)\n",
    "print('train set:',x_train.shape, y_train.shape)\n",
    "print('test set:',x_test.shape, y_test.shape)"
   ]
  },
  {
   "cell_type": "code",
   "execution_count": 32,
   "metadata": {},
   "outputs": [
    {
     "name": "stdout",
     "output_type": "stream",
     "text": [
      "Mean Accuracy: [0.49441786 0.50877193 0.49441786 0.50877193 0.46889952 0.49282297\n",
      " 0.48325359 0.49441786 0.47208931 0.50239234 0.49601276 0.48484848\n",
      " 0.47049442 0.48165869 0.47049442 0.48325359 0.47208931 0.48803828\n",
      " 0.47208931]\n"
     ]
    }
   ],
   "source": [
    "#Evaluating the right value of K \n",
    "from sklearn.neighbors import KNeighborsClassifier\n",
    "from sklearn import metrics\n",
    "Ks = 20\n",
    "mean_acc = np.zeros((Ks-1))  #Numpy zeros np.zeros() function in python is used to get an array \n",
    "                            #of given shape and type filled with zeros first = np.zeros(2, dtype = int)\n",
    "                            #ans:-[0,0]....second = np.zeros([2, 2], dtype = int) ans:-[[0,0][0,0]]\n",
    "std_acc = np.zeros((Ks-1))\n",
    "ConfustionMx = [];\n",
    "for n in range(1,Ks):\n",
    "    \n",
    "    #Train Model and Predict  \n",
    "    model = KNeighborsClassifier(n_neighbors = n).fit(x_train,y_train)\n",
    "    y_test_Predict=model.predict(x_test)\n",
    "    mean_acc[n-1] = metrics.accuracy_score(y_test, y_test_Predict)\n",
    "\n",
    "print('Mean Accuracy:',mean_acc)"
   ]
  },
  {
   "cell_type": "code",
   "execution_count": 33,
   "metadata": {},
   "outputs": [
    {
     "data": {
      "image/png": "[encoded data removed]",
      "text/plain": [
       "<Figure size 432x288 with 1 Axes>"
      ]
     },
     "metadata": {
      "needs_background": "light"
     },
     "output_type": "display_data"
    }
   ],
   "source": [
    "#plot of chosing the value of K\n",
    "plt.plot(range(1,Ks),mean_acc,'g')\n",
    "plt.legend(('Accuracy ', '+/- 3xstd'))\n",
    "plt.ylabel('Accuracy ')\n",
    "plt.xlabel('Number of Neighbors (K)')\n",
    "plt.tight_layout()\n",
    "plt.show()"
   ]
  },
  {
   "cell_type": "code",
   "execution_count": 34,
   "metadata": {},
   "outputs": [
    {
     "data": {
      "text/plain": [
       "KNeighborsClassifier(algorithm='auto', leaf_size=30, metric='minkowski',\n",
       "                     metric_params=None, n_jobs=None, n_neighbors=2, p=2,\n",
       "                     weights='uniform')"
      ]
     },
     "execution_count": 34,
     "metadata": {},
     "output_type": "execute_result"
    }
   ],
   "source": [
    "from sklearn.neighbors import KNeighborsClassifier\n",
    "k = 2\n",
    "#Train Model and Predict  \n",
    "model = KNeighborsClassifier(n_neighbors = k).fit(x_train,y_train)\n",
    "model"
   ]
  },
  {
   "cell_type": "code",
   "execution_count": 35,
   "metadata": {},
   "outputs": [
    {
     "data": {
      "text/plain": [
       "array([2, 1, 2, 1, 1])"
      ]
     },
     "execution_count": 35,
     "metadata": {},
     "output_type": "execute_result"
    }
   ],
   "source": [
    "y_test_Predict = model.predict(x_test)   \n",
    "y_test_Predict[0:5]"
   ]
  },
  {
   "cell_type": "code",
   "execution_count": 36,
   "metadata": {},
   "outputs": [
    {
     "name": "stdout",
     "output_type": "stream",
     "text": [
      "Train set Accuracy:  0.7324561403508771\n",
      "Test set Accuracy:  0.5087719298245614\n"
     ]
    }
   ],
   "source": [
    "from sklearn import metrics\n",
    "print(\"Train set Accuracy: \", metrics.accuracy_score(y_train, model.predict(x_train)))   \n",
    "print(\"Test set Accuracy: \", metrics.accuracy_score(y_test, y_test_Predict))"
   ]
  },
  {
   "cell_type": "code",
   "execution_count": 37,
   "metadata": {},
   "outputs": [
    {
     "name": "stdout",
     "output_type": "stream",
     "text": [
      "0.5087719298245614\n"
     ]
    }
   ],
   "source": [
    "print(metrics.accuracy_score(y_test, y_test_Predict))"
   ]
  },
  {
   "cell_type": "code",
   "execution_count": 38,
   "metadata": {},
   "outputs": [
    {
     "name": "stdout",
     "output_type": "stream",
     "text": [
      "0.6150000000000001\n"
     ]
    }
   ],
   "source": [
    "print(metrics.f1_score(y_test, y_test_Predict))"
   ]
  },
  {
   "cell_type": "code",
   "execution_count": 39,
   "metadata": {},
   "outputs": [
    {
     "name": "stdout",
     "output_type": "stream",
     "text": [
      "Confusion Matrix\n",
      "[[246  84]\n",
      " [224  73]]\n"
     ]
    }
   ],
   "source": [
    "from sklearn.metrics import classification_report, confusion_matrix\n",
    "import itertools\n",
    "#evaluaitng the model using the confusion matrix\n",
    "cm=confusion_matrix(y_test, y_test_Predict)\n",
    "print('Confusion Matrix')\n",
    "print(cm)"
   ]
  },
  {
   "cell_type": "code",
   "execution_count": 40,
   "metadata": {},
   "outputs": [
    {
     "name": "stdout",
     "output_type": "stream",
     "text": [
      "Confusion matrix\n",
      "[[246  84]\n",
      " [224  73]]\n"
     ]
    },
    {
     "data": {
      "image/png": "[encoded data removed]",
      "text/plain": [
       "<Figure size 432x288 with 2 Axes>"
      ]
     },
     "metadata": {
      "needs_background": "light"
     },
     "output_type": "display_data"
    }
   ],
   "source": [
    "def plot_confusion_matrix(cm, classes, normalize=False, title='Confusion matrix', cmap=plt.cm.Oranges):\n",
    "    if normalize:\n",
    "        cm = cm.astype('float') / cm.sum(axis=1)[:, np.newaxis]\n",
    "        print(\"Normalized confusion matrix\")\n",
    "    else:\n",
    "        print('Confusion matrix')\n",
    "\n",
    "    print(cm)\n",
    "    plt.imshow(cm, interpolation='nearest', cmap=cmap)\n",
    "    plt.title(title)\n",
    "    plt.colorbar()\n",
    "    tick_marks = np.arange(len(classes))\n",
    "    plt.xticks(tick_marks, classes, rotation=0)\n",
    "    plt.yticks(tick_marks, classes)\n",
    "\n",
    "    fmt = '.2f' if normalize else 'd'\n",
    "    thresh = 160 \n",
    "    for i, j in itertools.product(range(cm.shape[0]), range(cm.shape[1])):\n",
    "        plt.text(j, i, format(cm[i, j], fmt),\n",
    "                 horizontalalignment=\"center\",\n",
    "                 color=\"white\" if cm[i, j] > thresh else \"black\")\n",
    "    \n",
    "    plt.tight_layout()\n",
    "    plt.ylabel('True label',fontweight='bold')\n",
    "    plt.xlabel('Predicted label',fontweight='bold', labelpad=10)\n",
    "    \n",
    "cm=confusion_matrix(y_test, y_test_Predict)\n",
    "\n",
    "plt.figure()\n",
    "plot_confusion_matrix(cm, classes=['Flu(1)','Covid(2)'],title='Confusion matrix')\n"
   ]
  },
  {
   "cell_type": "markdown",
   "metadata": {},
   "source": [
    "### Severity Classifier"
   ]
  },
  {
   "cell_type": "code",
   "execution_count": 41,
   "metadata": {},
   "outputs": [
    {
     "name": "stdout",
     "output_type": "stream",
     "text": [
      "x: [[ 1 66  1  1  1]\n",
      " [ 1  9  2  2  2]\n",
      " [ 1 60  1  2  3]\n",
      " ...\n",
      " [ 1 80  3  4  3]\n",
      " [ 1 39  2  1  1]\n",
      " [ 2 78  3  2  1]]\n",
      "\n",
      "y: [2 1 1 ... 1 2 1]\n"
     ]
    }
   ],
   "source": [
    "x=data2[['Gender', 'Age ', 'Serious_symptoms','Less_common_symptoms', 'Most_common_symptoms']].values\n",
    "y=data2['Severity'].values\n",
    "print('x:', x)\n",
    "print('\\ny:',y)"
   ]
  },
  {
   "cell_type": "code",
   "execution_count": 42,
   "metadata": {},
   "outputs": [
    {
     "data": {
      "text/plain": [
       "array([[-1.00031903,  0.50650619, -1.21513239, -1.51212429, -1.20390216],\n",
       "       [-1.00031903, -1.54904714,  0.00584198, -1.00861822,  0.01871957],\n",
       "       [-1.00031903,  0.29013216, -1.21513239, -1.00861822,  1.2413413 ],\n",
       "       [-1.00031903,  0.79500491, -1.21513239, -0.00160608,  1.2413413 ],\n",
       "       [-1.00031903,  0.72288023, -1.21513239, -0.50511215, -1.20390216]])"
      ]
     },
     "execution_count": 42,
     "metadata": {},
     "output_type": "execute_result"
    }
   ],
   "source": [
    "from sklearn import preprocessing\n",
    "x=preprocessing.StandardScaler().fit(x).transform(x.astype(int))\n",
    "x[0:5]"
   ]
  },
  {
   "cell_type": "code",
   "execution_count": 43,
   "metadata": {},
   "outputs": [
    {
     "name": "stdout",
     "output_type": "stream",
     "text": [
      "train set: (2508, 5) (2508,)\n",
      "test set: (627, 5) (627,)\n"
     ]
    }
   ],
   "source": [
    "#splitting the data into train & test data\n",
    "from sklearn.model_selection import train_test_split\n",
    "x_train, x_test, y_train, y_test = train_test_split( x, y, test_size=0.2, random_state=4)\n",
    "print('train set:',x_train.shape, y_train.shape)\n",
    "print('test set:',x_test.shape, y_test.shape)"
   ]
  },
  {
   "cell_type": "code",
   "execution_count": 44,
   "metadata": {},
   "outputs": [
    {
     "data": {
      "text/plain": [
       "SVC(C=1.0, break_ties=False, cache_size=200, class_weight=None, coef0=0.0,\n",
       "    decision_function_shape='ovr', degree=3, gamma='scale', kernel='rbf',\n",
       "    max_iter=-1, probability=False, random_state=None, shrinking=True,\n",
       "    tol=0.001, verbose=False)"
      ]
     },
     "execution_count": 44,
     "metadata": {},
     "output_type": "execute_result"
    }
   ],
   "source": [
    "from sklearn import svm\n",
    "model = svm.SVC(kernel='rbf')\n",
    "model.fit(x_train, y_train) "
   ]
  },
  {
   "cell_type": "code",
   "execution_count": 45,
   "metadata": {},
   "outputs": [
    {
     "name": "stdout",
     "output_type": "stream",
     "text": [
      "y_test_Predict: [2 2 3 2 1 2 3 3 3 1]\n",
      "y_test: [1 1 2 1 3 1 1 3 3 3]\n"
     ]
    }
   ],
   "source": [
    "y_test_Predict = model.predict(x_test)   \n",
    "print('y_test_Predict:',y_test_Predict[0:10])\n",
    "print('y_test:',y_test[0:10])"
   ]
  },
  {
   "cell_type": "code",
   "execution_count": 46,
   "metadata": {},
   "outputs": [
    {
     "name": "stdout",
     "output_type": "stream",
     "text": [
      "Train set Accuracy:  0.4166666666666667\n",
      "Test set Accuracy:  0.3524720893141946\n"
     ]
    }
   ],
   "source": [
    "from sklearn import metrics\n",
    "print(\"Train set Accuracy: \", metrics.accuracy_score(y_train, model.predict(x_train)))   \n",
    "print(\"Test set Accuracy: \", metrics.accuracy_score(y_test, y_test_Predict))"
   ]
  },
  {
   "cell_type": "code",
   "execution_count": 47,
   "metadata": {},
   "outputs": [
    {
     "name": "stdout",
     "output_type": "stream",
     "text": [
      "Confusion matrix\n",
      "[[61 66 81]\n",
      " [54 74 84]\n",
      " [63 58 86]]\n"
     ]
    },
    {
     "data": {
      "image/png": "[encoded data removed]",
      "text/plain": [
       "<Figure size 432x288 with 2 Axes>"
      ]
     },
     "metadata": {
      "needs_background": "light"
     },
     "output_type": "display_data"
    }
   ],
   "source": [
    "from sklearn import preprocessing\n",
    "import matplotlib.cm as cm\n",
    "def plot_confusion_matrix(cm, classes,\n",
    "                          normalize=False,\n",
    "                          title='Confusion matrix',\n",
    "                          cmap=plt.cm.Greens):\n",
    "\n",
    "    if normalize:\n",
    "        cm = cm.astype('float') / cm.sum(axis=1)[:, np.newaxis]\n",
    "        print(\"Normalized confusion matrix\")\n",
    "    else:\n",
    "        print('Confusion matrix')\n",
    "\n",
    "    print(cm)\n",
    "\n",
    "    plt.imshow(cm, interpolation='nearest', cmap=cmap)\n",
    "    plt.title(title)\n",
    "    plt.colorbar()\n",
    "    tick_marks = np.arange(len(classes))\n",
    "    plt.xticks(tick_marks, classes, rotation=0)\n",
    "    plt.yticks(tick_marks, classes)\n",
    "\n",
    "    fmt = '.2f' if normalize else 'd'\n",
    "    thresh = (cm.max() / 2)+30\n",
    "    for i, j in itertools.product(range(cm.shape[0]), range(cm.shape[1])):\n",
    "        plt.text(j, i, format(cm[i, j], fmt),\n",
    "                 horizontalalignment=\"center\",\n",
    "                 color=\"white\" if cm[i, j] > thresh else \"black\")\n",
    "\n",
    "    plt.tight_layout()\n",
    "    plt.ylabel('True label')\n",
    "    plt.xlabel('Predicted label')  \n",
    "    \n",
    "cnf_matrix = confusion_matrix(y_test,y_test_Predict, labels=[1,2,3])\n",
    "plt.figure()\n",
    "plot_confusion_matrix(cnf_matrix, classes=['Mild(1)','Moderate(2)','Seviour(3)'],title='Confusion matrix')"
   ]
  },
  {
   "cell_type": "code",
   "execution_count": 48,
   "metadata": {},
   "outputs": [
    {
     "name": "stdout",
     "output_type": "stream",
     "text": [
      "0.3524720893141946\n"
     ]
    }
   ],
   "source": [
    "print(metrics.accuracy_score(y_test, y_test_Predict))"
   ]
  },
  {
   "cell_type": "code",
   "execution_count": 49,
   "metadata": {},
   "outputs": [
    {
     "data": {
      "text/plain": [
       "array([False, False, False, False, False, False, False,  True,  True,\n",
       "       False, False,  True,  True, False, False, False,  True, False,\n",
       "        True, False, False, False,  True,  True, False, False,  True,\n",
       "        True, False,  True, False, False, False, False, False,  True,\n",
       "       False, False,  True, False, False, False, False,  True, False,\n",
       "       False, False,  True, False, False, False, False,  True, False,\n",
       "        True, False, False,  True,  True,  True,  True, False, False,\n",
       "       False, False,  True, False, False, False, False])"
      ]
     },
     "execution_count": 49,
     "metadata": {},
     "output_type": "execute_result"
    }
   ],
   "source": [
    "y_test_Predict[0:70]==y_test[0:70]"
   ]
  },
  {
   "cell_type": "code",
   "execution_count": 50,
   "metadata": {},
   "outputs": [
    {
     "name": "stdout",
     "output_type": "stream",
     "text": [
      "0.3508863687035969\n"
     ]
    }
   ],
   "source": [
    "print(metrics.f1_score(y_test, y_test_Predict, average='weighted'))"
   ]
  },
  {
   "cell_type": "code",
   "execution_count": null,
   "metadata": {},
   "outputs": [],
   "source": []
  }
 ],
 "metadata": {
  "kernelspec": {
   "display_name": "Python 3",
   "language": "python",
   "name": "python3"
  },
  "language_info": {
   "codemirror_mode": {
    "name": "ipython",
    "version": 3
   },
   "file_extension": ".py",
   "mimetype": "text/x-python",
   "name": "python",
   "nbconvert_exporter": "python",
   "pygments_lexer": "ipython3",
   "version": "3.7.6"
  }
 },
 "nbformat": 4,
 "nbformat_minor": 4
}
