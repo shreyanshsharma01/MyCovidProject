{
 "cells": [
  {
   "cell_type": "markdown",
   "metadata": {},
   "source": [
    "# Correlation & Linear Regression"
   ]
  },
  {
   "cell_type": "code",
   "execution_count": 1,
   "metadata": {},
   "outputs": [],
   "source": [
    "import matplotlib\n",
    "import matplotlib.pyplot as plt\n",
    "import pandas as pd\n",
    "import numpy as np\n",
    "import seaborn as sns"
   ]
  },
  {
   "cell_type": "code",
   "execution_count": 2,
   "metadata": {},
   "outputs": [],
   "source": [
    "#importing the dataset\n",
    "data=pd.read_csv('data of Kerala state.csv')"
   ]
  },
  {
   "cell_type": "code",
   "execution_count": 3,
   "metadata": {},
   "outputs": [
    {
     "name": "stdout",
     "output_type": "stream",
     "text": [
      "(129, 5)\n"
     ]
    },
    {
     "data": {
      "text/html": [
       "<div>\n",
       "<style scoped>\n",
       "    .dataframe tbody tr th:only-of-type {\n",
       "        vertical-align: middle;\n",
       "    }\n",
       "\n",
       "    .dataframe tbody tr th {\n",
       "        vertical-align: top;\n",
       "    }\n",
       "\n",
       "    .dataframe thead th {\n",
       "        text-align: right;\n",
       "    }\n",
       "</style>\n",
       "<table border=\"1\" class=\"dataframe\">\n",
       "  <thead>\n",
       "    <tr style=\"text-align: right;\">\n",
       "      <th></th>\n",
       "      <th>Date</th>\n",
       "      <th>State</th>\n",
       "      <th>Confirmed</th>\n",
       "      <th>Deceased</th>\n",
       "      <th>Recovered</th>\n",
       "    </tr>\n",
       "  </thead>\n",
       "  <tbody>\n",
       "    <tr>\n",
       "      <th>0</th>\n",
       "      <td>14-03-2020</td>\n",
       "      <td>Kerala</td>\n",
       "      <td>19</td>\n",
       "      <td>0</td>\n",
       "      <td>3</td>\n",
       "    </tr>\n",
       "    <tr>\n",
       "      <th>1</th>\n",
       "      <td>15-03-2020</td>\n",
       "      <td>Kerala</td>\n",
       "      <td>5</td>\n",
       "      <td>0</td>\n",
       "      <td>0</td>\n",
       "    </tr>\n",
       "    <tr>\n",
       "      <th>2</th>\n",
       "      <td>16-03-2020</td>\n",
       "      <td>Kerala</td>\n",
       "      <td>3</td>\n",
       "      <td>0</td>\n",
       "      <td>0</td>\n",
       "    </tr>\n",
       "    <tr>\n",
       "      <th>3</th>\n",
       "      <td>17-03-2020</td>\n",
       "      <td>Kerala</td>\n",
       "      <td>0</td>\n",
       "      <td>0</td>\n",
       "      <td>0</td>\n",
       "    </tr>\n",
       "    <tr>\n",
       "      <th>4</th>\n",
       "      <td>18-03-2020</td>\n",
       "      <td>Kerala</td>\n",
       "      <td>0</td>\n",
       "      <td>0</td>\n",
       "      <td>0</td>\n",
       "    </tr>\n",
       "  </tbody>\n",
       "</table>\n",
       "</div>"
      ],
      "text/plain": [
       "         Date   State  Confirmed  Deceased  Recovered\n",
       "0  14-03-2020  Kerala         19         0          3\n",
       "1  15-03-2020  Kerala          5         0          0\n",
       "2  16-03-2020  Kerala          3         0          0\n",
       "3  17-03-2020  Kerala          0         0          0\n",
       "4  18-03-2020  Kerala          0         0          0"
      ]
     },
     "execution_count": 3,
     "metadata": {},
     "output_type": "execute_result"
    }
   ],
   "source": [
    "print(data.shape)\n",
    "data.head()"
   ]
  },
  {
   "cell_type": "code",
   "execution_count": 4,
   "metadata": {},
   "outputs": [
    {
     "data": {
      "text/html": [
       "<div>\n",
       "<style scoped>\n",
       "    .dataframe tbody tr th:only-of-type {\n",
       "        vertical-align: middle;\n",
       "    }\n",
       "\n",
       "    .dataframe tbody tr th {\n",
       "        vertical-align: top;\n",
       "    }\n",
       "\n",
       "    .dataframe thead th {\n",
       "        text-align: right;\n",
       "    }\n",
       "</style>\n",
       "<table border=\"1\" class=\"dataframe\">\n",
       "  <thead>\n",
       "    <tr style=\"text-align: right;\">\n",
       "      <th></th>\n",
       "      <th>Confirmed</th>\n",
       "      <th>Deceased</th>\n",
       "      <th>Recovered</th>\n",
       "    </tr>\n",
       "  </thead>\n",
       "  <tbody>\n",
       "    <tr>\n",
       "      <th>count</th>\n",
       "      <td>129.000000</td>\n",
       "      <td>129.000000</td>\n",
       "      <td>129.000000</td>\n",
       "    </tr>\n",
       "    <tr>\n",
       "      <th>mean</th>\n",
       "      <td>102.906977</td>\n",
       "      <td>0.341085</td>\n",
       "      <td>43.527132</td>\n",
       "    </tr>\n",
       "    <tr>\n",
       "      <th>std</th>\n",
       "      <td>175.152721</td>\n",
       "      <td>0.618669</td>\n",
       "      <td>60.249102</td>\n",
       "    </tr>\n",
       "    <tr>\n",
       "      <th>min</th>\n",
       "      <td>0.000000</td>\n",
       "      <td>0.000000</td>\n",
       "      <td>0.000000</td>\n",
       "    </tr>\n",
       "    <tr>\n",
       "      <th>25%</th>\n",
       "      <td>8.000000</td>\n",
       "      <td>0.000000</td>\n",
       "      <td>3.000000</td>\n",
       "    </tr>\n",
       "    <tr>\n",
       "      <th>50%</th>\n",
       "      <td>26.000000</td>\n",
       "      <td>0.000000</td>\n",
       "      <td>13.000000</td>\n",
       "    </tr>\n",
       "    <tr>\n",
       "      <th>75%</th>\n",
       "      <td>111.000000</td>\n",
       "      <td>1.000000</td>\n",
       "      <td>61.000000</td>\n",
       "    </tr>\n",
       "    <tr>\n",
       "      <th>max</th>\n",
       "      <td>821.000000</td>\n",
       "      <td>3.000000</td>\n",
       "      <td>245.000000</td>\n",
       "    </tr>\n",
       "  </tbody>\n",
       "</table>\n",
       "</div>"
      ],
      "text/plain": [
       "        Confirmed    Deceased   Recovered\n",
       "count  129.000000  129.000000  129.000000\n",
       "mean   102.906977    0.341085   43.527132\n",
       "std    175.152721    0.618669   60.249102\n",
       "min      0.000000    0.000000    0.000000\n",
       "25%      8.000000    0.000000    3.000000\n",
       "50%     26.000000    0.000000   13.000000\n",
       "75%    111.000000    1.000000   61.000000\n",
       "max    821.000000    3.000000  245.000000"
      ]
     },
     "execution_count": 4,
     "metadata": {},
     "output_type": "execute_result"
    }
   ],
   "source": [
    "data.describe()"
   ]
  },
  {
   "cell_type": "code",
   "execution_count": 5,
   "metadata": {},
   "outputs": [
    {
     "data": {
      "text/html": [
       "<div>\n",
       "<style scoped>\n",
       "    .dataframe tbody tr th:only-of-type {\n",
       "        vertical-align: middle;\n",
       "    }\n",
       "\n",
       "    .dataframe tbody tr th {\n",
       "        vertical-align: top;\n",
       "    }\n",
       "\n",
       "    .dataframe thead th {\n",
       "        text-align: right;\n",
       "    }\n",
       "</style>\n",
       "<table border=\"1\" class=\"dataframe\">\n",
       "  <thead>\n",
       "    <tr style=\"text-align: right;\">\n",
       "      <th></th>\n",
       "      <th>Confirmed</th>\n",
       "      <th>Deceased</th>\n",
       "      <th>Recovered</th>\n",
       "    </tr>\n",
       "  </thead>\n",
       "  <tbody>\n",
       "    <tr>\n",
       "      <th>Confirmed</th>\n",
       "      <td>1.000000</td>\n",
       "      <td>0.552050</td>\n",
       "      <td>0.848758</td>\n",
       "    </tr>\n",
       "    <tr>\n",
       "      <th>Deceased</th>\n",
       "      <td>0.552050</td>\n",
       "      <td>1.000000</td>\n",
       "      <td>0.462745</td>\n",
       "    </tr>\n",
       "    <tr>\n",
       "      <th>Recovered</th>\n",
       "      <td>0.848758</td>\n",
       "      <td>0.462745</td>\n",
       "      <td>1.000000</td>\n",
       "    </tr>\n",
       "  </tbody>\n",
       "</table>\n",
       "</div>"
      ],
      "text/plain": [
       "           Confirmed  Deceased  Recovered\n",
       "Confirmed   1.000000  0.552050   0.848758\n",
       "Deceased    0.552050  1.000000   0.462745\n",
       "Recovered   0.848758  0.462745   1.000000"
      ]
     },
     "execution_count": 5,
     "metadata": {},
     "output_type": "execute_result"
    }
   ],
   "source": [
    "#Correlation between data column names\n",
    "data.corr()"
   ]
  },
  {
   "cell_type": "code",
   "execution_count": 6,
   "metadata": {},
   "outputs": [
    {
     "data": {
      "text/plain": [
       "array([[1.        , 0.84875797],\n",
       "       [0.84875797, 1.        ]])"
      ]
     },
     "execution_count": 6,
     "metadata": {},
     "output_type": "execute_result"
    }
   ],
   "source": [
    "# Correlation between Confirmed & Recoveredp ersons\n",
    "np.corrcoef(data.Confirmed,data.Recovered)"
   ]
  },
  {
   "cell_type": "code",
   "execution_count": 7,
   "metadata": {},
   "outputs": [
    {
     "data": {
      "image/png": "[encoded data removed]",
      "text/plain": [
       "<Figure size 432x288 with 1 Axes>"
      ]
     },
     "metadata": {},
     "output_type": "display_data"
    }
   ],
   "source": [
    "import matplotlib.pyplot as plt\n",
    "%matplotlib inline\n",
    "matplotlib.style.use('ggplot')\n",
    "\n",
    "plt.scatter(data.Confirmed,data.Recovered, c=\"purple\")\n",
    "plt.xlabel('Confirmed')\n",
    "plt.ylabel('Recovered')\n",
    "plt.show()"
   ]
  },
  {
   "cell_type": "code",
   "execution_count": 8,
   "metadata": {},
   "outputs": [
    {
     "data": {
      "text/plain": [
       "array([[1.        , 0.46274496],\n",
       "       [0.46274496, 1.        ]])"
      ]
     },
     "execution_count": 8,
     "metadata": {},
     "output_type": "execute_result"
    }
   ],
   "source": [
    "# Correlation between Recovered & Deceaesd persons\n",
    "np.corrcoef(data.Recovered, data.Deceased)"
   ]
  },
  {
   "cell_type": "code",
   "execution_count": 9,
   "metadata": {},
   "outputs": [
    {
     "data": {
      "text/plain": [
       "Text(0, 0.5, 'Deceased')"
      ]
     },
     "execution_count": 9,
     "metadata": {},
     "output_type": "execute_result"
    },
    {
     "data": {
      "image/png": "[encoded data removed]",
      "text/plain": [
       "<Figure size 432x288 with 1 Axes>"
      ]
     },
     "metadata": {},
     "output_type": "display_data"
    }
   ],
   "source": [
    "import matplotlib.pyplot as plt\n",
    "%matplotlib inline\n",
    "matplotlib.style.use('ggplot')\n",
    "plt.scatter(data.Recovered, data.Deceased, color='firebrick')\n",
    "plt.xlabel('Recovered')\n",
    "plt.ylabel('Deceased')"
   ]
  },
  {
   "cell_type": "code",
   "execution_count": 10,
   "metadata": {},
   "outputs": [
    {
     "data": {
      "text/plain": [
       "array([[1.        , 0.55204994],\n",
       "       [0.55204994, 1.        ]])"
      ]
     },
     "execution_count": 10,
     "metadata": {},
     "output_type": "execute_result"
    }
   ],
   "source": [
    "# Correlation between Recovered & Deceased persons\n",
    "np.corrcoef(data.Confirmed, data.Deceased)"
   ]
  },
  {
   "cell_type": "code",
   "execution_count": 11,
   "metadata": {},
   "outputs": [
    {
     "data": {
      "text/plain": [
       "Text(0, 0.5, 'Deceased')"
      ]
     },
     "execution_count": 11,
     "metadata": {},
     "output_type": "execute_result"
    },
    {
     "data": {
      "image/png": "[encoded data removed]",
      "text/plain": [
       "<Figure size 432x288 with 1 Axes>"
      ]
     },
     "metadata": {},
     "output_type": "display_data"
    }
   ],
   "source": [
    "import matplotlib.pyplot as plt\n",
    "%matplotlib inline\n",
    "matplotlib.style.use('ggplot')\n",
    "plt.scatter(data.Confirmed, data.Deceased, color='dodgerblue')\n",
    "plt.xlabel('Confirmed')\n",
    "plt.ylabel('Deceased')"
   ]
  },
  {
   "cell_type": "code",
   "execution_count": 12,
   "metadata": {},
   "outputs": [],
   "source": [
    "x=data.iloc[:,2].values #extracting column2 i.e Confirmed\n",
    "y=data.iloc[:,4].values #extracting column4 i.e Recovered"
   ]
  },
  {
   "cell_type": "code",
   "execution_count": 13,
   "metadata": {},
   "outputs": [
    {
     "name": "stdout",
     "output_type": "stream",
     "text": [
      "(129,)\n",
      "[[ 19   5   3   0   0   1  12  12  15  28  14   9  19  39   6  20  32   7\n",
      "   24  21   9  11   8  13   9   9  12   7  10   2   3   8   1   7   1   4\n",
      "    2   6  19  11  10   3   7  11  13   4  10   2   0   2   0   0   3   0\n",
      "    0   1   2   7   7   5  10  26  16  11  14  29  12  24  24  42  62  53\n",
      "   49  67  40  85  62  58  61  57  86  82  94 111 108 107  91  91  65  83\n",
      "   78  85  54  82  79  75  97 118 127 133 138 141 152 123 150 195 118 122\n",
      "  131 151 160 211 240 225 193 272 301 339 416 488 435 449 608 623 722 791\n",
      "  593 821 794]]\n"
     ]
    }
   ],
   "source": [
    "print(x.shape)\n",
    "print(x.reshape(1,-1))"
   ]
  },
  {
   "cell_type": "code",
   "execution_count": 14,
   "metadata": {},
   "outputs": [
    {
     "data": {
      "text/plain": [
       "(129,)"
      ]
     },
     "execution_count": 14,
     "metadata": {},
     "output_type": "execute_result"
    }
   ],
   "source": [
    "y.shape"
   ]
  },
  {
   "cell_type": "code",
   "execution_count": 15,
   "metadata": {},
   "outputs": [
    {
     "name": "stdout",
     "output_type": "stream",
     "text": [
      "x_train:\n",
      " [435  32  83 488  39 138 141  11  20  79  97   4   0  61  12  82   3 127\n",
      "  16 240   0  91 272   7  24 118   9  12  62  11 107  26   5   2  75 211\n",
      "   7   3   0   7  19   1   0 821  53  19   1  10   1  85   4  13  40   8\n",
      " 108   7 133 160   1 131   6  85  21   2   2 195  94 593 794  57  42  86\n",
      "   9 449  49  58   9   6  82 225  10 301  11 152  29   7  19 416  65  62\n",
      "  91   2 193  11 111  28 123 791 623  24  14 339   2]\n",
      "x_test:\n",
      " [ 10   9 122   0  15 608  13 150  67  12  10  14  78 118   3   7   3   5\n",
      "   0  12   8 151   0  24  54 722]\n",
      "y_train:\n",
      " [132   4  62 143   0  88  60   4   4  60  89   4   0  15   0  73   0  57\n",
      "   0 209   5  11 111  27   2  42   0   0  10   4  41   3   0   1  90 201\n",
      "   7  15   0   4  16   0   7 172   5   3  10  19  10   3   2   3  10  13\n",
      "  50   4  93 202   7  75   1  46   2  36   8 102  39 204 245  18   2  19\n",
      "  14 162  12  10  13  21  24 126  10 107   1  81   0   0   7 112  57   3\n",
      "  34  13 167   8  22   0  53 132 196   5   0 149  14]\n",
      "y_test:\n",
      " [  8  12  79  61   0 181  13  65  10   0   1   1  32  96  19  27   0   0\n",
      "   1  13   6 132   9   8  56 228]\n"
     ]
    }
   ],
   "source": [
    "#splitting the data into train & test data\n",
    "from sklearn.model_selection import train_test_split\n",
    "x_train,x_test,y_train,y_test=train_test_split(x,y,test_size=0.2,random_state=0)\n",
    "print('x_train:\\n',x_train)\n",
    "print('x_test:\\n',x_test)\n",
    "print('y_train:\\n',y_train)\n",
    "print('y_test:\\n',y_test)"
   ]
  },
  {
   "cell_type": "code",
   "execution_count": 16,
   "metadata": {},
   "outputs": [
    {
     "data": {
      "text/plain": [
       "array([[435],\n",
       "       [ 32],\n",
       "       [ 83],\n",
       "       [488],\n",
       "       [ 39],\n",
       "       [138],\n",
       "       [141],\n",
       "       [ 11],\n",
       "       [ 20],\n",
       "       [ 79],\n",
       "       [ 97],\n",
       "       [  4],\n",
       "       [  0],\n",
       "       [ 61],\n",
       "       [ 12],\n",
       "       [ 82],\n",
       "       [  3],\n",
       "       [127],\n",
       "       [ 16],\n",
       "       [240],\n",
       "       [  0],\n",
       "       [ 91],\n",
       "       [272],\n",
       "       [  7],\n",
       "       [ 24],\n",
       "       [118],\n",
       "       [  9],\n",
       "       [ 12],\n",
       "       [ 62],\n",
       "       [ 11],\n",
       "       [107],\n",
       "       [ 26],\n",
       "       [  5],\n",
       "       [  2],\n",
       "       [ 75],\n",
       "       [211],\n",
       "       [  7],\n",
       "       [  3],\n",
       "       [  0],\n",
       "       [  7],\n",
       "       [ 19],\n",
       "       [  1],\n",
       "       [  0],\n",
       "       [821],\n",
       "       [ 53],\n",
       "       [ 19],\n",
       "       [  1],\n",
       "       [ 10],\n",
       "       [  1],\n",
       "       [ 85],\n",
       "       [  4],\n",
       "       [ 13],\n",
       "       [ 40],\n",
       "       [  8],\n",
       "       [108],\n",
       "       [  7],\n",
       "       [133],\n",
       "       [160],\n",
       "       [  1],\n",
       "       [131],\n",
       "       [  6],\n",
       "       [ 85],\n",
       "       [ 21],\n",
       "       [  2],\n",
       "       [  2],\n",
       "       [195],\n",
       "       [ 94],\n",
       "       [593],\n",
       "       [794],\n",
       "       [ 57],\n",
       "       [ 42],\n",
       "       [ 86],\n",
       "       [  9],\n",
       "       [449],\n",
       "       [ 49],\n",
       "       [ 58],\n",
       "       [  9],\n",
       "       [  6],\n",
       "       [ 82],\n",
       "       [225],\n",
       "       [ 10],\n",
       "       [301],\n",
       "       [ 11],\n",
       "       [152],\n",
       "       [ 29],\n",
       "       [  7],\n",
       "       [ 19],\n",
       "       [416],\n",
       "       [ 65],\n",
       "       [ 62],\n",
       "       [ 91],\n",
       "       [  2],\n",
       "       [193],\n",
       "       [ 11],\n",
       "       [111],\n",
       "       [ 28],\n",
       "       [123],\n",
       "       [791],\n",
       "       [623],\n",
       "       [ 24],\n",
       "       [ 14],\n",
       "       [339],\n",
       "       [  2]], dtype=int64)"
      ]
     },
     "execution_count": 16,
     "metadata": {},
     "output_type": "execute_result"
    }
   ],
   "source": [
    "x_train.reshape(-1,1)\n"
   ]
  },
  {
   "cell_type": "code",
   "execution_count": 17,
   "metadata": {},
   "outputs": [
    {
     "name": "stdout",
     "output_type": "stream",
     "text": [
      "(103,)\n",
      "(26,)\n"
     ]
    }
   ],
   "source": [
    "print(x_train.shape)\n",
    "print(x_test.shape)"
   ]
  },
  {
   "cell_type": "code",
   "execution_count": 18,
   "metadata": {},
   "outputs": [],
   "source": [
    "from sklearn.linear_model import LinearRegression"
   ]
  },
  {
   "cell_type": "code",
   "execution_count": 19,
   "metadata": {},
   "outputs": [],
   "source": [
    "model=LinearRegression().fit(x_train.reshape(-1,1), y_train)\n"
   ]
  },
  {
   "cell_type": "code",
   "execution_count": 20,
   "metadata": {},
   "outputs": [],
   "source": [
    "y_predict=model.predict(x_test.reshape(-1,1))"
   ]
  },
  {
   "cell_type": "code",
   "execution_count": 21,
   "metadata": {},
   "outputs": [
    {
     "data": {
      "text/plain": [
       "array([ 16.12066338,  15.83187259,  48.4652324 ,  13.23275543,\n",
       "        17.56461736, 188.81755866,  16.98703577,  56.55137465,\n",
       "        32.58173868,  16.69824497,  16.12066338,  17.27582656,\n",
       "        35.75843743,  47.31006922,  14.09912782,  15.254291  ,\n",
       "        14.09912782,  14.67670941,  13.23275543,  16.69824497,\n",
       "        15.54308179,  56.84016545,  13.23275543,  20.16373451,\n",
       "        28.82745835, 221.73970926])"
      ]
     },
     "execution_count": 21,
     "metadata": {},
     "output_type": "execute_result"
    }
   ],
   "source": [
    "y_predict"
   ]
  },
  {
   "cell_type": "code",
   "execution_count": 22,
   "metadata": {},
   "outputs": [
    {
     "data": {
      "text/plain": [
       "array([  8,  12,  79,  61,   0, 181,  13,  65,  10,   0,   1,   1,  32,\n",
       "        96,  19,  27,   0,   0,   1,  13,   6, 132,   9,   8,  56, 228],\n",
       "      dtype=int64)"
      ]
     },
     "execution_count": 22,
     "metadata": {},
     "output_type": "execute_result"
    }
   ],
   "source": [
    "y_test"
   ]
  },
  {
   "cell_type": "code",
   "execution_count": 23,
   "metadata": {},
   "outputs": [
    {
     "data": {
      "image/png": "[encoded data removed]",
      "text/plain": [
       "<Figure size 432x288 with 1 Axes>"
      ]
     },
     "metadata": {},
     "output_type": "display_data"
    }
   ],
   "source": [
    "import matplotlib.pyplot as plt\n",
    "plt.scatter(x_train, y_train, color='purple')\n",
    "plt.plot(x_train.reshape(-1,1), model.predict(x_train.reshape(-1,1)), color='navy')\n",
    "plt.xlabel('Confirmed')\n",
    "plt.ylabel('Recovered')\n",
    "\n",
    "plt.show()"
   ]
  },
  {
   "cell_type": "code",
   "execution_count": 24,
   "metadata": {},
   "outputs": [
    {
     "name": "stdout",
     "output_type": "stream",
     "text": [
      "Slope = [0.28879079]\n",
      "Intercept = 13.23275543466547\n"
     ]
    }
   ],
   "source": [
    "#Getting the coefficients\n",
    "print('Slope =',model.coef_)\n",
    "print('Intercept =',model.intercept_)"
   ]
  },
  {
   "cell_type": "code",
   "execution_count": 25,
   "metadata": {},
   "outputs": [],
   "source": [
    "x=data.iloc[:,4].values #extracting column4 i.e Recovered\n",
    "y=data.iloc[:,3].values #extracting column3 i.e Deceased\n",
    "\n",
    "#splitting the data into train & test data\n",
    "from sklearn.model_selection import train_test_split\n",
    "x_train,x_test,y_train,y_test=train_test_split(x,y,test_size=0.2,random_state=0)\n",
    "\n",
    "from sklearn.linear_model import LinearRegression\n",
    "model=LinearRegression().fit(x_train.reshape(-1,1), y_train)\n",
    "\n"
   ]
  },
  {
   "cell_type": "code",
   "execution_count": 26,
   "metadata": {},
   "outputs": [],
   "source": [
    "y_predict=model.predict(x_test.reshape(-1,1))"
   ]
  },
  {
   "cell_type": "code",
   "execution_count": 27,
   "metadata": {},
   "outputs": [
    {
     "data": {
      "image/png": "[encoded data removed]",
      "text/plain": [
       "<Figure size 432x288 with 1 Axes>"
      ]
     },
     "metadata": {},
     "output_type": "display_data"
    }
   ],
   "source": [
    "import matplotlib.pyplot as plt\n",
    "plt.scatter(x_train, y_train, color='firebrick')\n",
    "plt.plot(x_train.reshape(-1,1), model.predict(x_train.reshape(-1,1)), color='maroon')\n",
    "plt.xlabel('Recovered')\n",
    "plt.ylabel('Deceased')\n",
    "         \n",
    "plt.show()"
   ]
  },
  {
   "cell_type": "code",
   "execution_count": 28,
   "metadata": {},
   "outputs": [
    {
     "name": "stdout",
     "output_type": "stream",
     "text": [
      "Slope = [0.0042473]\n",
      "Intercept = 0.17131131556104995\n"
     ]
    }
   ],
   "source": [
    "#Getting the coefficients\n",
    "print('Slope =',model.coef_)\n",
    "print('Intercept =',model.intercept_)"
   ]
  },
  {
   "cell_type": "code",
   "execution_count": 29,
   "metadata": {},
   "outputs": [],
   "source": [
    "x=data.iloc[:,2].values #extracting column2 i.e Confirmed\n",
    "y=data.iloc[:,3].values #extracting column3 i.e Deceased\n",
    "\n",
    "#splitting the data into train & test data\n",
    "from sklearn.model_selection import train_test_split\n",
    "x_train,x_test,y_train,y_test=train_test_split(x,y,test_size=0.2,random_state=0)\n",
    "\n",
    "from sklearn.linear_model import LinearRegression\n",
    "model=LinearRegression().fit(x_train.reshape(-1,1), y_train)\n",
    "\n"
   ]
  },
  {
   "cell_type": "code",
   "execution_count": 30,
   "metadata": {},
   "outputs": [],
   "source": [
    "y_predict=model.predict(x_test.reshape(-1,1))"
   ]
  },
  {
   "cell_type": "code",
   "execution_count": 31,
   "metadata": {},
   "outputs": [
    {
     "data": {
      "image/png": "[encoded data removed]",
      "text/plain": [
       "<Figure size 432x288 with 1 Axes>"
      ]
     },
     "metadata": {},
     "output_type": "display_data"
    }
   ],
   "source": [
    "import matplotlib.pyplot as plt\n",
    "plt.scatter(x_train, y_train, color='dodgerblue')\n",
    "plt.plot(x_train.reshape(-1,1), model.predict(x_train.reshape(-1,1)), color='darkslategrey')\n",
    "plt.xlabel('Confirmed')\n",
    "plt.ylabel('Deceased')\n",
    "         \n",
    "plt.show()"
   ]
  },
  {
   "cell_type": "code",
   "execution_count": 32,
   "metadata": {},
   "outputs": [
    {
     "name": "stdout",
     "output_type": "stream",
     "text": [
      "Slope = [0.0018375]\n",
      "Intercept = 0.16191489432169393\n"
     ]
    }
   ],
   "source": [
    "#Getting the coefficients\n",
    "print('Slope =',model.coef_)\n",
    "print('Intercept =',model.intercept_)"
   ]
  },
  {
   "cell_type": "code",
   "execution_count": 33,
   "metadata": {},
   "outputs": [
    {
     "data": {
      "text/plain": [
       "<matplotlib.axes._subplots.AxesSubplot at 0x16982b1a308>"
      ]
     },
     "execution_count": 33,
     "metadata": {},
     "output_type": "execute_result"
    },
    {
     "data": {
      "image/png": "[encoded data removed]",
      "text/plain": [
       "<Figure size 432x288 with 2 Axes>"
      ]
     },
     "metadata": {},
     "output_type": "display_data"
    }
   ],
   "source": [
    "# heatmap of correlation\n",
    "sns.heatmap(data.corr(),annot=True,linewidths=2, annot_kws={\"size\": 15}, cmap=\"Blues\")\n"
   ]
  },
  {
   "cell_type": "code",
   "execution_count": null,
   "metadata": {},
   "outputs": [],
   "source": []
  }
 ],
 "metadata": {
  "kernelspec": {
   "display_name": "Python 3",
   "language": "python",
   "name": "python3"
  },
  "language_info": {
   "codemirror_mode": {
    "name": "ipython",
    "version": 3
   },
   "file_extension": ".py",
   "mimetype": "text/x-python",
   "name": "python",
   "nbconvert_exporter": "python",
   "pygments_lexer": "ipython3",
   "version": "3.7.6"
  }
 },
 "nbformat": 4,
 "nbformat_minor": 4
}
